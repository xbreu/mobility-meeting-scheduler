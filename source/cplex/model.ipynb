{
 "cells": [
  {
   "cell_type": "markdown",
   "metadata": {},
   "source": [
    "# Mobility Meeting Scheduler"
   ]
  },
  {
   "cell_type": "markdown",
   "metadata": {},
   "source": [
    "### Constants"
   ]
  },
  {
   "cell_type": "code",
   "execution_count": 102,
   "metadata": {},
   "outputs": [],
   "source": [
    "SOLVER_TIME_LIMIT = 2000\n",
    "\n",
    "MAXIMUM_FLIGHT_COST = 2500\n",
    "MAXIMUM_USEFUL_TIME = 2628288"
   ]
  },
  {
   "cell_type": "markdown",
   "metadata": {},
   "source": [
    "### Import Data"
   ]
  },
  {
   "cell_type": "markdown",
   "metadata": {},
   "source": [
    "#### Students"
   ]
  },
  {
   "cell_type": "code",
   "execution_count": 103,
   "metadata": {},
   "outputs": [
    {
     "name": "stdout",
     "output_type": "stream",
     "text": [
      "Imported 3 students, 7 destinations and the minimum time.\n"
     ]
    }
   ],
   "source": [
    "import json\n",
    "from datetime import datetime, timedelta\n",
    "\n",
    "# Import students information\n",
    "file = open('../../data/new/students.json')\n",
    "\n",
    "input = json.load(file)\n",
    "\n",
    "DESTINATIONS = input['destinations']\n",
    "MINIMUM_USEFUL_TIME = input['minimumTime']\n",
    "STUDENTS_INFO = input['students']\n",
    "N_STUDENTS = len(STUDENTS_INFO)\n",
    "\n",
    "STUDENTS_ORIGINS = [DESTINATIONS.index(x) for x in [student[\"city\"] for student in STUDENTS_INFO]]\n",
    "STUDENTS_STOPS = [student[\"maxConnections\"] for student in STUDENTS_INFO]\n",
    "STUDENTS_DURATIONS = [student[\"maxDuration\"] for student in STUDENTS_INFO]\n",
    "STUDENTS_DEPARTURES = [int(round(datetime.strptime(student[\"earliestDeparture\"], '%H:%M:%S').timestamp())) for student in STUDENTS_INFO]\n",
    "STUDENTS_ARRIVALS = [int(round(datetime.strptime(student[\"latestArrival\"], '%H:%M:%S').timestamp())) for student in STUDENTS_INFO]\n",
    "\n",
    "STUDENS_AVAILABILITIES = []\n",
    "for student in STUDENTS_INFO:\n",
    "    studentIntervals = []\n",
    "    for start, end in student[\"availability\"]:\n",
    "        studentIntervals.append(int(round(datetime.strptime(start + \" \" + student[\"earliestDeparture\"], '%d/%m/%Y %H:%M:%S').timestamp())))\n",
    "        studentIntervals.append(int(round(datetime.strptime(end + \" \" + student[\"latestArrival\"], '%d/%m/%Y %H:%M:%S').timestamp())))\n",
    "    STUDENS_AVAILABILITIES.append(studentIntervals)\n",
    "\n",
    "N_MAX_INTERVALS = max([int(len(x) / 2) for x in STUDENS_AVAILABILITIES])\n",
    "\n",
    "print(\"Imported\", N_STUDENTS, \"students,\", len(DESTINATIONS), \"destinations and the minimum time.\")"
   ]
  },
  {
   "cell_type": "markdown",
   "metadata": {},
   "source": [
    "#### Flights"
   ]
  },
  {
   "cell_type": "code",
   "execution_count": 104,
   "metadata": {},
   "outputs": [
    {
     "name": "stdout",
     "output_type": "stream",
     "text": [
      "Imported 9323 flights!\n"
     ]
    }
   ],
   "source": [
    "# Import flights\n",
    "file = open('../../data/new/flights.json')\n",
    "\n",
    "FLIGHTS = json.load(file)\n",
    "\n",
    "# Add dummy flights\n",
    "def add_dummy_flight(city, date, time):\n",
    "    FLIGHTS.append({\n",
    "        \"origin\": city,\n",
    "        \"destination\": city,\n",
    "        \"departure\": date + \", \" + time,\n",
    "        \"arrival\": date + \", \" + time,\n",
    "        \"duration\": 0,\n",
    "        \"price\": \"0\",\n",
    "        \"stops\": 0\n",
    "    })\n",
    "\n",
    "for student in STUDENTS_INFO:\n",
    "    for start, end in student[\"availability\"]:\n",
    "        add_dummy_flight(student[\"city\"], start, student[\"earliestDeparture\"])\n",
    "        add_dummy_flight(student[\"city\"], end, student[\"latestArrival\"])\n",
    "\n",
    "\n",
    "FLIGHTS_ORIGINS = [DESTINATIONS.index(x) for x in [flight[\"origin\"] for flight in FLIGHTS]]\n",
    "FLIGHTS_DESTINATIONS = [DESTINATIONS.index(x) for x in [flight[\"destination\"] for flight in FLIGHTS]]\n",
    "\n",
    "FLIGHTS_DEPARTURES = [int(round(datetime.strptime(flight[\"departure\"], '%d/%m/%Y, %H:%M:%S').timestamp())) for flight in FLIGHTS]\n",
    "FLIGHTS_DEPARTURE_TIMES = [int(round(datetime.strptime(datetime.fromtimestamp(departure).time().isoformat(), '%H:%M:%S').timestamp())) for departure in FLIGHTS_DEPARTURES]\n",
    "\n",
    "FLIGHTS_ARRIVALS = [int(round(datetime.strptime(flight[\"arrival\"], '%d/%m/%Y, %H:%M:%S').timestamp())) for flight in FLIGHTS]\n",
    "FLIGHTS_ARRIVAL_TIMES = [int(round(datetime.strptime(datetime.fromtimestamp(arrival).time().isoformat(), '%H:%M:%S').timestamp())) for arrival in FLIGHTS_ARRIVALS]\n",
    "\n",
    "FLIGHTS_DURATIONS = [flight[\"duration\"] for flight in FLIGHTS]\n",
    "FLIGHTS_COSTS = [int(flight[\"price\"]) for flight in FLIGHTS]\n",
    "FLIGHTS_STOPS = [flight[\"stops\"] for flight in FLIGHTS]\n",
    "\n",
    "print(\"Imported\", len(FLIGHTS), \"flights!\")"
   ]
  },
  {
   "cell_type": "markdown",
   "metadata": {},
   "source": [
    "#### Model"
   ]
  },
  {
   "cell_type": "code",
   "execution_count": 105,
   "metadata": {},
   "outputs": [],
   "source": [
    "from docplex.cp.model import CpoModel\n",
    "from docplex.cp.expression import INT_MIN, INT_MAX\n",
    "\n",
    "model = CpoModel()"
   ]
  },
  {
   "cell_type": "markdown",
   "metadata": {},
   "source": [
    "#### Variables"
   ]
  },
  {
   "cell_type": "code",
   "execution_count": 106,
   "metadata": {},
   "outputs": [],
   "source": [
    "# Chosen Destination\n",
    "Destination = model.integer_var(0, len(DESTINATIONS) - 1, \"Destination\")\n",
    "\n",
    "# Indexes of the flights each student has to take\n",
    "StudentsFlights = [model.integer_var_list(2, 0, len(FLIGHTS) - 1) for i in range(N_STUDENTS)]\n",
    "\n",
    "# Student avaliability interval\n",
    "StudentsAvailabilityIntervals = model.integer_var_list(N_STUDENTS, 0, N_MAX_INTERVALS, \"Interval\")\n",
    "\n",
    "# Cost for each of the students\n",
    "StudentsCosts = model.integer_var_list(N_STUDENTS, 0, MAXIMUM_FLIGHT_COST, \"StudentCost\")\n",
    "\n",
    "# Total trip cost\n",
    "TotalCost = model.integer_var(0, MAXIMUM_FLIGHT_COST * N_STUDENTS, \"TotalCost\")\n",
    "\n",
    "# Useful time\n",
    "UsefulTime = model.integer_var(0, MAXIMUM_USEFUL_TIME, \"UsefulTime\")\n",
    "\n",
    "# Separated Time\n",
    "SeparatedTime = model.integer_var(0, MAXIMUM_USEFUL_TIME, \"SeparatedTime\")"
   ]
  },
  {
   "cell_type": "markdown",
   "metadata": {},
   "source": [
    "#### Constraints"
   ]
  },
  {
   "cell_type": "code",
   "execution_count": 107,
   "metadata": {},
   "outputs": [],
   "source": [
    "for i in range(N_STUDENTS):\n",
    "    Outgoing, Incoming = StudentsFlights[i]\n",
    "    StudentOrigin = model.element(STUDENTS_ORIGINS, i)\n",
    "\n",
    "    # Origin of the flights\n",
    "    model.add(model.element(FLIGHTS_ORIGINS, Outgoing) == StudentOrigin)\n",
    "    model.add(model.element(FLIGHTS_ORIGINS, Incoming) == Destination)\n",
    "\n",
    "    # Destination of the flights\n",
    "    model.add(model.element(FLIGHTS_DESTINATIONS, Outgoing) == Destination)\n",
    "    model.add(model.element(FLIGHTS_DESTINATIONS, Incoming) == StudentOrigin)\n",
    "\n",
    "    # Availability\n",
    "    startAvailability = model.element(STUDENS_AVAILABILITIES[i], StudentsAvailabilityIntervals[i] * 2)\n",
    "    endAvailability = model.element(STUDENS_AVAILABILITIES[i], StudentsAvailabilityIntervals[i] * 2 + 1)\n",
    "    model.add(model.element(FLIGHTS_DEPARTURES, Outgoing) >= startAvailability)\n",
    "    model.add(model.element(FLIGHTS_ARRIVALS, Incoming) <= endAvailability)\n",
    "\n",
    "    # Outgoing arrival time must be before Incoming departure time\n",
    "    model.add(model.element(FLIGHTS_ARRIVALS, Outgoing) < model.element(FLIGHTS_DEPARTURES, Incoming))\n",
    "\n",
    "    # Earliest departure\n",
    "    model.add(model.element(FLIGHTS_DEPARTURE_TIMES, Outgoing) >= model.element(STUDENTS_DEPARTURES, i))\n",
    "    model.add(model.element(FLIGHTS_DEPARTURE_TIMES, Incoming) >= model.element(STUDENTS_DEPARTURES, i))\n",
    "\n",
    "    # Latest arrival\n",
    "    model.add(model.element(FLIGHTS_ARRIVAL_TIMES, Outgoing) <= model.element(STUDENTS_ARRIVALS, i))\n",
    "    model.add(model.element(FLIGHTS_ARRIVAL_TIMES, Incoming) <= model.element(STUDENTS_ARRIVALS, i))\n",
    "\n",
    "    # Maximum number of stops\n",
    "    model.add(model.element(FLIGHTS_STOPS, Outgoing) <= model.element(STUDENTS_STOPS, i))\n",
    "    model.add(model.element(FLIGHTS_STOPS, Incoming) <= model.element(STUDENTS_STOPS, i))\n",
    "\n",
    "    # Maximum flight duration\n",
    "    model.add(model.element(FLIGHTS_DURATIONS, Outgoing) <= model.element(STUDENTS_DURATIONS, i))\n",
    "    model.add(model.element(FLIGHTS_DURATIONS, Incoming) <= model.element(STUDENTS_DURATIONS, i))\n",
    "\n",
    "    # Student Cost\n",
    "    studentCost = model.element(FLIGHTS_COSTS, StudentsFlights[i][0]) + model.element(FLIGHTS_COSTS, StudentsFlights[i][1])\n",
    "    model.add(studentCost == StudentsCosts[i])\n",
    "\n",
    "\n",
    "firstOutgoingTime = model.min([model.conditional(model.element(STUDENTS_ORIGINS, i) != Destination, model.element(FLIGHTS_ARRIVALS, StudentsFlights[i][0]), INT_MAX) for i in range(N_STUDENTS)])\n",
    "lastOutgoingTime = model.max([model.conditional(model.element(STUDENTS_ORIGINS, i) != Destination, model.element(FLIGHTS_ARRIVALS, StudentsFlights[i][0]), INT_MIN) for i in range(N_STUDENTS)])\n",
    "firstIncomingTime = model.min([model.conditional(model.element(STUDENTS_ORIGINS, i) != Destination, model.element(FLIGHTS_DEPARTURES, StudentsFlights[i][1]), INT_MAX) for i in range(N_STUDENTS)])\n",
    "lastIncomingTime = model.max([model.conditional(model.element(STUDENTS_ORIGINS, i) != Destination, model.element(FLIGHTS_DEPARTURES, StudentsFlights[i][1]), INT_MIN) for i in range(N_STUDENTS)])\n",
    "\n",
    "# Useful Time\n",
    "model.add(UsefulTime == firstIncomingTime - lastOutgoingTime)\n",
    "model.add(UsefulTime >= MINIMUM_USEFUL_TIME)\n",
    "\n",
    "# Separated Time\n",
    "model.add(SeparatedTime == (lastOutgoingTime - firstOutgoingTime) + (lastIncomingTime - firstIncomingTime))\n",
    "\n",
    "# Total cost\n",
    "model.add(TotalCost == model.sum(StudentsCosts))\n",
    "\n",
    "# Minimize function\n",
    "model.add(model.minimize(TotalCost / UsefulTime))"
   ]
  },
  {
   "cell_type": "markdown",
   "metadata": {},
   "source": [
    "#### Solve"
   ]
  },
  {
   "cell_type": "code",
   "execution_count": 108,
   "metadata": {},
   "outputs": [
    {
     "name": "stdout",
     "output_type": "stream",
     "text": [
      "Solving model....\n",
      " ! --------------------------------------------------- CP Optimizer 22.1.0.0 --\n",
      " ! Minimization problem - 16 variables, 52 constraints, 1 phase\n",
      " ! TimeLimit            = 2000\n",
      " ! Initial process time : 0.77s (0.77s extraction + 0.00s propagation)\n",
      " !  . Log search space  : 151.8 (before), 151.8 (after)\n",
      " !  . Memory usage      : 10.3 MB (before), 10.3 MB (after)\n",
      " ! Using parallel search with 8 workers.\n",
      " ! ----------------------------------------------------------------------------\n",
      " !          Best Branches  Non-fixed    W       Branch decision\n",
      "                        0         16                 -\n",
      " + New bound is 0\n",
      "                        0         16    1   F        -\n",
      " + New bound is 0.00003994779\n",
      " *    0.09407407        7  3.83s        1      (gap is 99.96%)\n",
      " *    0.02935982       14  3.83s        1      (gap is 99.86%)\n",
      " *   0.004001806       33  3.83s        1      (gap is 99.00%)\n",
      " *   0.003257485       68  3.83s        1      (gap is 98.77%)\n",
      " *   0.002968906       88  3.84s        1      (gap is 98.65%)\n",
      " *   0.002713725       96  3.84s        1      (gap is 98.53%)\n",
      " *   0.002150872      105  3.84s        1      (gap is 98.14%)\n",
      " *   0.002098528      111  3.84s        1      (gap is 98.10%)\n",
      " *   0.002001338      117  3.84s        1      (gap is 98.00%)\n",
      " *   0.001930555      125  3.84s        1      (gap is 97.93%)\n",
      " *   0.001894414      136  3.84s        1      (gap is 97.89%)\n",
      " *   0.001827291      145  3.84s        1      (gap is 97.81%)\n",
      " *   0.001649466      156  3.84s        1      (gap is 97.58%)\n",
      " *   0.001606088      165  3.84s        1      (gap is 97.51%)\n",
      " *   0.001464099      171  3.84s        1      (gap is 97.27%)\n",
      " *   0.001452922      184  3.84s        1      (gap is 97.25%)\n",
      " *   0.001448651      189  3.84s        1      (gap is 97.24%)\n",
      " *   0.001428064      195  3.84s        1      (gap is 97.20%)\n",
      " ! Time = 3.84s, Average fail depth = 5, Memory usage = 42.6 MB\n",
      " ! Current bound is 0.00003994779 (gap is 97.20%)\n",
      " !          Best Branches  Non-fixed    W       Branch decision\n",
      " *   0.001394202      199  3.84s        1      (gap is 97.13%)\n",
      " *  0.0008565026      205  3.84s        1      (gap is 95.34%)\n",
      " *  0.0008464965      213  3.84s        1      (gap is 95.28%)\n",
      " *  0.0006847493      225  3.84s        1      (gap is 94.17%)\n",
      " *  0.0006707566      231  3.84s        1      (gap is 94.04%)\n",
      " *  0.0006465907      241  3.84s        1      (gap is 93.82%)\n",
      " *  0.0005899798      259  3.84s        1      (gap is 93.23%)\n",
      " *  0.0005881083      265  3.84s        1      (gap is 93.21%)\n",
      " *  0.0005620395      271  3.84s        1      (gap is 92.89%)\n",
      " *  0.0005249818      291  3.84s        1      (gap is 92.39%)\n",
      " *  0.0004969610      299  3.84s        1      (gap is 91.96%)\n",
      " *  0.0004967385      313  3.84s        1      (gap is 91.96%)\n",
      " *  0.0004814703      320  3.84s        1      (gap is 91.70%)\n",
      " *  0.0004713163      329  3.84s        1      (gap is 91.52%)\n",
      " *  0.0004687779      343  3.84s        1      (gap is 91.48%)\n",
      " *  0.0004494382      357  3.84s        1      (gap is 91.11%)\n",
      " *  0.0004434790      361  3.84s        1      (gap is 90.99%)\n",
      " *  0.0004065300      380  3.84s        1      (gap is 90.17%)\n",
      " *  0.0003837667      400  3.84s        1      (gap is 89.59%)\n",
      " *  0.0003822152      434  3.84s        1      (gap is 89.55%)\n",
      " ! Time = 3.84s, Average fail depth = 6, Memory usage = 42.6 MB\n",
      " ! Current bound is 0.00003994779 (gap is 89.55%)\n",
      " !          Best Branches  Non-fixed    W       Branch decision\n",
      " *  0.0003810011      443  3.84s        1      (gap is 89.52%)\n",
      " *  0.0003729462      497  3.84s        1      (gap is 89.29%)\n",
      " *  0.0003570524      507  3.84s        1      (gap is 88.81%)\n",
      " *  0.0003565846      510  3.84s        1      (gap is 88.80%)\n",
      " *  0.0003471274      545  3.84s        1      (gap is 88.49%)\n",
      " *  0.0003411821      550  3.84s        1      (gap is 88.29%)\n",
      " *  0.0003329009      565  3.84s        1      (gap is 88.00%)\n",
      " *  0.0003320561      575  3.84s        1      (gap is 87.97%)\n",
      " *  0.0002997816      594  3.84s        1      (gap is 86.67%)\n",
      " *  0.0002931442      605  3.84s        1      (gap is 86.37%)\n",
      " *  0.0002886850      616  3.84s        1      (gap is 86.16%)\n",
      " *  0.0002851941      708  3.84s        1      (gap is 85.99%)\n",
      " *  0.0002816504      848  3.84s        1      (gap is 85.82%)\n",
      " *  0.0002730582      874  3.84s        1      (gap is 85.37%)\n",
      " *  0.0002729044      876  3.84s        1      (gap is 85.36%)\n",
      " *  0.0002683896      903  3.84s        1      (gap is 85.12%)\n",
      " *  0.0002680887      917  3.84s        1      (gap is 85.10%)\n",
      " *  0.0002640264      954  3.84s        1      (gap is 84.87%)\n",
      " *  0.0002318943      975  3.84s        1      (gap is 82.77%)\n",
      " *  0.0002316567      988  3.84s        1      (gap is 82.76%)\n",
      " ! Time = 3.84s, Average fail depth = 6, Memory usage = 42.7 MB\n",
      " ! Current bound is 0.00003994779 (gap is 82.76%)\n",
      " !          Best Branches  Non-fixed    W       Branch decision\n",
      "    0.0002316567     1000          1    1      1874  = _INT_4\n",
      " *  0.0002099737      558  3.84s        2      (gap is 80.97%)\n",
      " *  0.0002074452      582  3.84s        2      (gap is 80.74%)\n",
      " *  0.0002070808      603  3.84s        2      (gap is 80.71%)\n",
      " *  0.0001651651      618  3.84s        2      (gap is 75.81%)\n",
      " *  0.0001602288      656  3.84s        2      (gap is 75.07%)\n",
      " *  0.0001490671      680  3.84s        2      (gap is 73.20%)\n",
      " *  0.0001264181      699  3.84s        2      (gap is 68.40%)\n",
      " * 0.00009506654      716  3.84s        2      (gap is 57.98%)\n",
      " * 0.00008965188      733  3.84s        2      (gap is 55.44%)\n",
      " * 0.00008716970      744  3.84s        2      (gap is 54.17%)\n",
      " * 0.00008673726      755  3.84s        2      (gap is 53.94%)\n",
      " * 0.00008496732      766  3.84s        2      (gap is 52.98%)\n",
      " * 0.00006352476      777  3.84s        2      (gap is 37.11%)\n",
      " * 0.00006065775      787  3.84s        2      (gap is 34.14%)\n",
      " * 0.00005997818      808  3.84s        2      (gap is 33.40%)\n",
      " * 0.00005861977      858  3.84s        2      (gap is 31.85%)\n",
      " * 0.00005796326      881  3.84s        2      (gap is 31.08%)\n",
      " * 0.00005684341      938  3.84s        2      (gap is 29.72%)\n",
      "   0.00005684341      970          1    2            -\n",
      " + New bound is 0.00005683772 (gap is 0.01%)\n",
      " ! Time = 3.84s, Average fail depth = 6, Memory usage = 62.4 MB\n",
      " ! Current bound is 0.00005683772 (gap is 0.01%)\n",
      " !          Best Branches  Non-fixed    W       Branch decision\n",
      " ! ----------------------------------------------------------------------------\n",
      " ! Search completed, 76 solutions found.\n",
      " ! Best objective         : 0.00005684341 (optimal - effective tol. is 5.684341e-09)\n",
      " ! Best bound             : 0.00005683772\n",
      " ! ----------------------------------------------------------------------------\n",
      " ! Number of branches     : 7982\n",
      " ! Number of fails        : 3356\n",
      " ! Total memory usage     : 178.9 MB (178.8 MB CP Optimizer + 0.0 MB Concert)\n",
      " ! Time spent in solve    : 3.84s (3.08s engine + 0.77s extraction)\n",
      " ! Search speed (br. / s) : 2600.0\n",
      " ! ----------------------------------------------------------------------------\n"
     ]
    }
   ],
   "source": [
    "# Search Phase\n",
    "Vars = [Destination] + [flight for student in StudentsFlights for flight in student]\n",
    "Varchooser = model.select_largest(model.var_success_rate())\n",
    "Valuechooser = model.select_random_value()\n",
    "model.set_search_phases(model.search_phase(Vars, Varchooser, Valuechooser))\n",
    "\n",
    "print(\"Solving model....\")\n",
    "\n",
    "solution = model.solve(TimeLimit = SOLVER_TIME_LIMIT)"
   ]
  },
  {
   "cell_type": "markdown",
   "metadata": {},
   "source": [
    "#### Solution"
   ]
  },
  {
   "cell_type": "code",
   "execution_count": 109,
   "metadata": {},
   "outputs": [
    {
     "name": "stdout",
     "output_type": "stream",
     "text": [
      "Solution status: Optimal\n",
      "--> Destination: milano\n",
      "--> Total Cost: 64€\n",
      "--> Useful Time: 1125900 ( 13 days, 0:45:00 )\n",
      "--> Separated Time: 189000 ( 2 days, 4:30:00 )\n",
      "--> Students:\n",
      "    --> Student 1 departing from budapest:\n",
      "        OUTGOING FLIGHT:\n",
      "          01/06/2022, 08:15:00 -> 01/06/2022, 09:50:00 ( 1:35:00 )\n",
      "          Flight costs 13€ with 0 stops.\n",
      "        INCOMING FLIGHT:\n",
      "          14/06/2022, 21:00:00 -> 14/06/2022, 22:30:00 ( 1:30:00 )\n",
      "          Flight costs 5€ with 0 stops.\n",
      "    --> Student 2 departing from zagreb:\n",
      "        OUTGOING FLIGHT:\n",
      "          01/06/2022, 19:00:00 -> 01/06/2022, 20:15:00 ( 1:15:00 )\n",
      "          Flight costs 10€ with 0 stops.\n",
      "        INCOMING FLIGHT:\n",
      "          16/06/2022, 13:30:00 -> 16/06/2022, 14:45:00 ( 1:15:00 )\n",
      "          Flight costs 10€ with 0 stops.\n",
      "    --> Student 3 departing from wien:\n",
      "        OUTGOING FLIGHT:\n",
      "          01/06/2022, 06:50:00 -> 01/06/2022, 08:15:00 ( 1:25:00 )\n",
      "          Flight costs 16€ with 0 stops.\n",
      "        INCOMING FLIGHT:\n",
      "          15/06/2022, 09:05:00 -> 15/06/2022, 10:30:00 ( 1:25:00 )\n",
      "          Flight costs 10€ with 0 stops.\n"
     ]
    }
   ],
   "source": [
    "def print_flight(flight):\n",
    "    print(\"         \", flight[\"departure\"], \"->\", flight[\"arrival\"], \"(\", timedelta(minutes = flight[\"duration\"]), \")\")\n",
    "    print(\"          Flight costs \" + flight[\"price\"] + \"€ with \" + str(flight[\"stops\"]) + \" stops.\")\n",
    "\n",
    "if solution:\n",
    "    # solution.print_solution()\n",
    "    print(\"Solution status: \" + solution.get_solve_status())\n",
    "    print(\"--> Destination: \" + DESTINATIONS[solution[Destination]])\n",
    "    print(\"--> Total Cost: \" + str(solution[TotalCost]) + \"€\")\n",
    "    print(\"--> Useful Time:\", solution[UsefulTime], \"(\", timedelta(seconds = solution[UsefulTime]), \")\")\n",
    "    print(\"--> Separated Time:\", solution[SeparatedTime], \"(\", timedelta(seconds = solution[SeparatedTime]), \")\")\n",
    "    print(\"--> Students:\")\n",
    "\n",
    "    for i in range(N_STUDENTS):\n",
    "        Outgoing, Incoming = StudentsFlights[i]\n",
    "\n",
    "        print(\"    --> Student \" + str(i + 1) + \" departing from \" + STUDENTS_INFO[i][\"city\"] + \":\")\n",
    "\n",
    "        if STUDENTS_ORIGINS[i] == solution[Destination]:\n",
    "            print(\"       - Student need not to take any flights!\")\n",
    "        else:\n",
    "            print(\"        OUTGOING FLIGHT:\")\n",
    "            print_flight(FLIGHTS[solution[Outgoing]])\n",
    "            print(\"        INCOMING FLIGHT:\")\n",
    "            print_flight(FLIGHTS[solution[Incoming]])\n",
    "\n",
    "else:\n",
    "    print(\"No solution found\")"
   ]
  }
 ],
 "metadata": {
  "interpreter": {
   "hash": "0c7a622481a4ee3c77e2194436dca1746ca024df51366a091b5d2574d23653a1"
  },
  "kernelspec": {
   "display_name": "Python 3.8.12 ('base')",
   "language": "python",
   "name": "python3"
  },
  "language_info": {
   "codemirror_mode": {
    "name": "ipython",
    "version": 3
   },
   "file_extension": ".py",
   "mimetype": "text/x-python",
   "name": "python",
   "nbconvert_exporter": "python",
   "pygments_lexer": "ipython3",
   "version": "3.8.12"
  },
  "orig_nbformat": 4
 },
 "nbformat": 4,
 "nbformat_minor": 2
}

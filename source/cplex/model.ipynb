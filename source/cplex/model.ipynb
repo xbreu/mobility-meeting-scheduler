{
 "cells": [
  {
   "cell_type": "markdown",
   "metadata": {},
   "source": [
    "# Mobility Meeting Scheduler"
   ]
  },
  {
   "cell_type": "markdown",
   "metadata": {},
   "source": [
    "### Constants"
   ]
  },
  {
   "cell_type": "code",
   "execution_count": 94,
   "metadata": {},
   "outputs": [],
   "source": [
    "SOLVER_TIME_LIMIT = 2000\n",
    "\n",
    "MAXIMUM_FLIGHT_COST = 2500\n",
    "MAXIMUM_USEFUL_TIME = 2628288"
   ]
  },
  {
   "cell_type": "markdown",
   "metadata": {},
   "source": [
    "### Import Data"
   ]
  },
  {
   "cell_type": "markdown",
   "metadata": {},
   "source": [
    "#### Students"
   ]
  },
  {
   "cell_type": "code",
   "execution_count": 95,
   "metadata": {},
   "outputs": [
    {
     "name": "stdout",
     "output_type": "stream",
     "text": [
      "Imported 3 students, 7 destinations and the minimum time.\n"
     ]
    }
   ],
   "source": [
    "import json\n",
    "from datetime import datetime, timedelta\n",
    "\n",
    "# Import students information\n",
    "file = open('../../data/new/students.json')\n",
    "\n",
    "input = json.load(file)\n",
    "\n",
    "DESTINATIONS = input['destinations']\n",
    "MINIMUM_USEFUL_TIME = input['minimumTime']\n",
    "STUDENTS_INFO = input['students']\n",
    "N_STUDENTS = len(STUDENTS_INFO)\n",
    "\n",
    "STUDENTS_ORIGINS = [DESTINATIONS.index(x) for x in [student[\"city\"] for student in STUDENTS_INFO]]\n",
    "STUDENTS_STOPS = [student[\"maxConnections\"] for student in STUDENTS_INFO]\n",
    "STUDENTS_DURATIONS = [student[\"maxDuration\"] for student in STUDENTS_INFO]\n",
    "STUDENTS_DEPARTURES = [int(round(datetime.strptime(student[\"earliestDeparture\"], '%H:%M:%S').timestamp())) for student in STUDENTS_INFO]\n",
    "STUDENTS_ARRIVALS = [int(round(datetime.strptime(student[\"latestArrival\"], '%H:%M:%S').timestamp())) for student in STUDENTS_INFO]\n",
    "\n",
    "STUDENS_AVAILABILITIES = []\n",
    "for student in STUDENTS_INFO:\n",
    "    studentIntervals = []\n",
    "    for start, end in student[\"availability\"]:\n",
    "        studentIntervals.append(int(round(datetime.strptime(start + \" \" + student[\"earliestDeparture\"], '%d/%m/%Y %H:%M:%S').timestamp())))\n",
    "        studentIntervals.append(int(round(datetime.strptime(end + \" \" + student[\"latestArrival\"], '%d/%m/%Y %H:%M:%S').timestamp())))\n",
    "    STUDENS_AVAILABILITIES.append(studentIntervals)\n",
    "\n",
    "N_MAX_INTERVALS = max([int(len(x) / 2) for x in STUDENS_AVAILABILITIES])\n",
    "\n",
    "print(\"Imported\", N_STUDENTS, \"students,\", len(DESTINATIONS), \"destinations and the minimum time.\")"
   ]
  },
  {
   "cell_type": "markdown",
   "metadata": {},
   "source": [
    "#### Flights"
   ]
  },
  {
   "cell_type": "code",
   "execution_count": 96,
   "metadata": {},
   "outputs": [
    {
     "name": "stdout",
     "output_type": "stream",
     "text": [
      "Imported 9323 flights!\n"
     ]
    }
   ],
   "source": [
    "# Import flights\n",
    "file = open('../../data/new/flights.json')\n",
    "\n",
    "FLIGHTS = json.load(file)\n",
    "\n",
    "# Add dummy flights\n",
    "def add_dummy_flight(city, date, time):\n",
    "    FLIGHTS.append({\n",
    "        \"origin\": city,\n",
    "        \"destination\": city,\n",
    "        \"departure\": date + \", \" + time,\n",
    "        \"arrival\": date + \", \" + time,\n",
    "        \"duration\": 0,\n",
    "        \"price\": \"0\",\n",
    "        \"stops\": 0\n",
    "    })\n",
    "\n",
    "for student in STUDENTS_INFO:\n",
    "    for start, end in student[\"availability\"]:\n",
    "        add_dummy_flight(student[\"city\"], start, student[\"earliestDeparture\"])\n",
    "        add_dummy_flight(student[\"city\"], end, student[\"latestArrival\"])\n",
    "\n",
    "\n",
    "FLIGHTS_ORIGINS = [DESTINATIONS.index(x) for x in [flight[\"origin\"] for flight in FLIGHTS]]\n",
    "FLIGHTS_DESTINATIONS = [DESTINATIONS.index(x) for x in [flight[\"destination\"] for flight in FLIGHTS]]\n",
    "\n",
    "FLIGHTS_DEPARTURES = [int(round(datetime.strptime(flight[\"departure\"], '%d/%m/%Y, %H:%M:%S').timestamp())) for flight in FLIGHTS]\n",
    "FLIGHTS_DEPARTURE_TIMES = [int(round(datetime.strptime(datetime.fromtimestamp(departure).time().isoformat(), '%H:%M:%S').timestamp())) for departure in FLIGHTS_DEPARTURES]\n",
    "\n",
    "FLIGHTS_ARRIVALS = [int(round(datetime.strptime(flight[\"arrival\"], '%d/%m/%Y, %H:%M:%S').timestamp())) for flight in FLIGHTS]\n",
    "FLIGHTS_ARRIVAL_TIMES = [int(round(datetime.strptime(datetime.fromtimestamp(arrival).time().isoformat(), '%H:%M:%S').timestamp())) for arrival in FLIGHTS_ARRIVALS]\n",
    "\n",
    "FLIGHTS_DURATIONS = [flight[\"duration\"] for flight in FLIGHTS]\n",
    "FLIGHTS_COSTS = [int(flight[\"price\"]) for flight in FLIGHTS]\n",
    "FLIGHTS_STOPS = [flight[\"stops\"] for flight in FLIGHTS]\n",
    "\n",
    "print(\"Imported\", len(FLIGHTS), \"flights!\")"
   ]
  },
  {
   "cell_type": "markdown",
   "metadata": {},
   "source": [
    "#### Model"
   ]
  },
  {
   "cell_type": "code",
   "execution_count": 97,
   "metadata": {},
   "outputs": [],
   "source": [
    "from docplex.cp.model import CpoModel\n",
    "from docplex.cp.expression import INT_MIN, INT_MAX\n",
    "\n",
    "model = CpoModel()"
   ]
  },
  {
   "cell_type": "markdown",
   "metadata": {},
   "source": [
    "#### Variables"
   ]
  },
  {
   "cell_type": "code",
   "execution_count": 98,
   "metadata": {},
   "outputs": [],
   "source": [
    "# Chosen Destination\n",
    "Destination = model.integer_var(0, len(DESTINATIONS) - 1, \"Destination\")\n",
    "\n",
    "# Indexes of the flights each student has to take\n",
    "StudentsFlights = [model.integer_var_list(2, 0, len(FLIGHTS) - 1) for i in range(N_STUDENTS)]\n",
    "\n",
    "# Student avaliability interval\n",
    "StudentsAvailabilityIntervals = model.integer_var_list(N_STUDENTS, 0, N_MAX_INTERVALS, \"Interval\")\n",
    "\n",
    "# Cost for each of the students\n",
    "StudentsCosts = model.integer_var_list(N_STUDENTS, 0, MAXIMUM_FLIGHT_COST, \"StudentCost\")\n",
    "\n",
    "# Total trip cost\n",
    "TotalCost = model.integer_var(0, MAXIMUM_FLIGHT_COST * N_STUDENTS, \"TotalCost\")\n",
    "\n",
    "# Useful time\n",
    "UsefulTime = model.integer_var(0, MAXIMUM_USEFUL_TIME, \"UsefulTime\")\n",
    "\n",
    "# Separated Time\n",
    "SeparatedTime = model.integer_var(0, MAXIMUM_USEFUL_TIME, \"SeparatedTime\")"
   ]
  },
  {
   "cell_type": "markdown",
   "metadata": {},
   "source": [
    "#### Constraints"
   ]
  },
  {
   "cell_type": "code",
   "execution_count": 99,
   "metadata": {},
   "outputs": [],
   "source": [
    "for i in range(N_STUDENTS):\n",
    "    Outgoing, Incoming = StudentsFlights[i]\n",
    "    StudentOrigin = model.element(STUDENTS_ORIGINS, i)\n",
    "\n",
    "    # Origin of the flights\n",
    "    model.add(model.element(FLIGHTS_ORIGINS, Outgoing) == StudentOrigin)\n",
    "    model.add(model.element(FLIGHTS_ORIGINS, Incoming) == Destination)\n",
    "\n",
    "    # Destination of the flights\n",
    "    model.add(model.element(FLIGHTS_DESTINATIONS, Outgoing) == Destination)\n",
    "    model.add(model.element(FLIGHTS_DESTINATIONS, Incoming) == StudentOrigin)\n",
    "\n",
    "    # Availability\n",
    "    startAvailability = model.element(STUDENS_AVAILABILITIES[i], StudentsAvailabilityIntervals[i] * 2)\n",
    "    endAvailability = model.element(STUDENS_AVAILABILITIES[i], StudentsAvailabilityIntervals[i] * 2 + 1)\n",
    "    model.add(model.element(FLIGHTS_DEPARTURES, Outgoing) >= startAvailability)\n",
    "    model.add(model.element(FLIGHTS_ARRIVALS, Incoming) <= endAvailability)\n",
    "\n",
    "    # Outgoing arrival time must be before Incoming departure time\n",
    "    model.add(model.element(FLIGHTS_ARRIVALS, Outgoing) < model.element(FLIGHTS_DEPARTURES, Incoming))\n",
    "\n",
    "    # Earliest departure\n",
    "    model.add(model.element(FLIGHTS_DEPARTURE_TIMES, Outgoing) >= model.element(STUDENTS_DEPARTURES, i))\n",
    "    model.add(model.element(FLIGHTS_DEPARTURE_TIMES, Incoming) >= model.element(STUDENTS_DEPARTURES, i))\n",
    "\n",
    "    # Latest arrival\n",
    "    model.add(model.element(FLIGHTS_ARRIVAL_TIMES, Outgoing) <= model.element(STUDENTS_ARRIVALS, i))\n",
    "    model.add(model.element(FLIGHTS_ARRIVAL_TIMES, Incoming) <= model.element(STUDENTS_ARRIVALS, i))\n",
    "\n",
    "    # Maximum number of stops\n",
    "    model.add(model.element(FLIGHTS_STOPS, Outgoing) <= model.element(STUDENTS_STOPS, i))\n",
    "    model.add(model.element(FLIGHTS_STOPS, Incoming) <= model.element(STUDENTS_STOPS, i))\n",
    "\n",
    "    # Maximum flight duration\n",
    "    model.add(model.element(FLIGHTS_DURATIONS, Outgoing) <= model.element(STUDENTS_DURATIONS, i))\n",
    "    model.add(model.element(FLIGHTS_DURATIONS, Incoming) <= model.element(STUDENTS_DURATIONS, i))\n",
    "\n",
    "    # Student Cost\n",
    "    studentCost = model.element(FLIGHTS_COSTS, StudentsFlights[i][0]) + model.element(FLIGHTS_COSTS, StudentsFlights[i][1])\n",
    "    model.add(studentCost == StudentsCosts[i])\n",
    "\n",
    "\n",
    "firstOutgoingTime = model.min([model.conditional(model.element(STUDENTS_ORIGINS, i) != Destination, model.element(FLIGHTS_ARRIVALS, StudentsFlights[i][0]), INT_MAX) for i in range(N_STUDENTS)])\n",
    "lastOutgoingTime = model.max([model.conditional(model.element(STUDENTS_ORIGINS, i) != Destination, model.element(FLIGHTS_ARRIVALS, StudentsFlights[i][0]), INT_MIN) for i in range(N_STUDENTS)])\n",
    "firstIncomingTime = model.min([model.conditional(model.element(STUDENTS_ORIGINS, i) != Destination, model.element(FLIGHTS_DEPARTURES, StudentsFlights[i][1]), INT_MAX) for i in range(N_STUDENTS)])\n",
    "lastIncomingTime = model.max([model.conditional(model.element(STUDENTS_ORIGINS, i) != Destination, model.element(FLIGHTS_DEPARTURES, StudentsFlights[i][1]), INT_MIN) for i in range(N_STUDENTS)])\n",
    "\n",
    "# Useful Time\n",
    "model.add(UsefulTime == firstIncomingTime - lastOutgoingTime)\n",
    "model.add(UsefulTime >= MINIMUM_USEFUL_TIME)\n",
    "\n",
    "# Separated Time\n",
    "model.add(SeparatedTime == (lastOutgoingTime - firstOutgoingTime) + (lastIncomingTime - firstIncomingTime))\n",
    "\n",
    "# Total cost\n",
    "model.add(TotalCost == model.sum(StudentsCosts))\n",
    "\n",
    "# Minimize function\n",
    "model.add(model.minimize(TotalCost / UsefulTime))"
   ]
  },
  {
   "cell_type": "markdown",
   "metadata": {},
   "source": [
    "#### Solve"
   ]
  },
  {
   "cell_type": "code",
   "execution_count": 100,
   "metadata": {},
   "outputs": [
    {
     "name": "stdout",
     "output_type": "stream",
     "text": [
      "Solving model....\n",
      " ! --------------------------------------------------- CP Optimizer 22.1.0.0 --\n",
      " ! Minimization problem - 16 variables, 52 constraints, 1 phase\n",
      " ! TimeLimit            = 2000\n",
      " ! Initial process time : 0.72s (0.72s extraction + 0.00s propagation)\n",
      " !  . Log search space  : 151.8 (before), 151.8 (after)\n",
      " !  . Memory usage      : 10.3 MB (before), 10.3 MB (after)\n",
      " ! Using parallel search with 8 workers.\n",
      " ! ----------------------------------------------------------------------------\n",
      " !          Best Branches  Non-fixed    W       Branch decision\n",
      "                        0         16                 -\n",
      " + New bound is 0\n",
      "                        0         16    1   F        -\n",
      " + New bound is 0.00003994779\n",
      " *     0.4620833        6  3.25s        1      (gap is 99.99%)\n",
      " *   0.005749128       13  3.25s        1      (gap is 99.31%)\n",
      " *   0.004437532       29  3.25s        1      (gap is 99.10%)\n",
      " *   0.002822065       53  3.25s        1      (gap is 98.58%)\n",
      " *   0.002776371       83  3.25s        1      (gap is 98.56%)\n",
      " *   0.002632357       92  3.25s        1      (gap is 98.48%)\n",
      " *   0.002448621      114  3.25s        1      (gap is 98.37%)\n",
      " *   0.002379421      124  3.25s        1      (gap is 98.32%)\n",
      " *   0.001493791      134  3.25s        1      (gap is 97.33%)\n",
      " *   0.001373997      148  3.25s        1      (gap is 97.09%)\n",
      " *   0.001191037      187  3.25s        1      (gap is 96.65%)\n",
      " *   0.001164566      202  3.25s        1      (gap is 96.57%)\n",
      " *   0.001120144      232  3.25s        1      (gap is 96.43%)\n",
      " *   0.001115132      249  3.25s        1      (gap is 96.42%)\n",
      " *   0.001083273      257  3.25s        1      (gap is 96.31%)\n",
      " *   0.001055698      268  3.25s        1      (gap is 96.22%)\n",
      " *   0.001017525      308  3.25s        1      (gap is 96.07%)\n",
      " *   0.001008130      330  3.25s        1      (gap is 96.04%)\n",
      " ! Time = 3.25s, Average fail depth = 6, Memory usage = 42.6 MB\n",
      " ! Current bound is 0.00003994779 (gap is 96.04%)\n",
      " !          Best Branches  Non-fixed    W       Branch decision\n",
      " *   0.001006723      359  3.25s        1      (gap is 96.03%)\n",
      " *  0.0008916753      407  3.25s        1      (gap is 95.52%)\n",
      " *  0.0007860998      420  3.25s        1      (gap is 94.92%)\n",
      " *  0.0007780725      430  3.25s        1      (gap is 94.87%)\n",
      " *  0.0007743547      460  3.25s        1      (gap is 94.84%)\n",
      " *  0.0007737183      480  3.25s        1      (gap is 94.84%)\n",
      " *  0.0007416911      517  3.25s        1      (gap is 94.61%)\n",
      " *  0.0007291666      529  3.25s        1      (gap is 94.52%)\n",
      " *  0.0006757022      541  3.25s        1      (gap is 94.09%)\n",
      " *  0.0006742179      560  3.25s        1      (gap is 94.07%)\n",
      " *  0.0006711697      593  3.25s        1      (gap is 94.05%)\n",
      " *  0.0006441992      622  3.25s        1      (gap is 93.80%)\n",
      " *  0.0005601227      666  3.25s        1      (gap is 92.87%)\n",
      " *  0.0005510204      677  3.25s        1      (gap is 92.75%)\n",
      " *  0.0005414130      692  3.25s        1      (gap is 92.62%)\n",
      " *  0.0005404761      698  3.25s        1      (gap is 92.61%)\n",
      " *  0.0005326340      724  3.25s        1      (gap is 92.50%)\n",
      " *  0.0005261910      731  3.25s        1      (gap is 92.41%)\n",
      " *  0.0004879173      768  3.25s        1      (gap is 91.81%)\n",
      " *  0.0004849703      792  3.25s        1      (gap is 91.76%)\n",
      " ! Time = 3.25s, Average fail depth = 6, Memory usage = 42.6 MB\n",
      " ! Current bound is 0.00003994779 (gap is 91.76%)\n",
      " !          Best Branches  Non-fixed    W       Branch decision\n",
      " *  0.0004610013      809  3.25s        1      (gap is 91.33%)\n",
      " *  0.0004587255      964  3.25s        1      (gap is 91.29%)\n",
      "    0.0004587255     1000          2    1   F    50  = _INT_4\n",
      "    0.0004587255     1000          1    2        35 != _INT_4\n",
      " *  0.0004580926      804  3.25s        3      (gap is 91.28%)\n",
      " *  0.0004579339      840  3.25s        3      (gap is 91.28%)\n",
      " *  0.0004559237      870  3.25s        3      (gap is 91.24%)\n",
      " *  0.0004460784      931  3.25s        3      (gap is 91.04%)\n",
      " *  0.0003981439      956  3.25s        3      (gap is 89.97%)\n",
      " *  0.0003916057      995  3.25s        3      (gap is 89.80%)\n",
      "    0.0003916057     1000          1    3            -\n",
      " *  0.0003905562      653  3.25s        4      (gap is 89.77%)\n",
      " *  0.0003817204      666  3.25s        4      (gap is 89.53%)\n",
      " *  0.0003729681      709  3.25s        4      (gap is 89.29%)\n",
      " *  0.0003653169      717  3.25s        4      (gap is 89.06%)\n",
      " *  0.0003627217      742  3.25s        4      (gap is 88.99%)\n",
      " *  0.0002977346      773  3.25s        4      (gap is 86.58%)\n",
      "    0.0002977346     1000          2    5      2392 != _INT_5\n",
      "    0.0002977346     1000          2    6         0 != Destination\n",
      " *  0.0002901649      813  3.25s        7      (gap is 86.23%)\n",
      " ! Time = 3.25s, Average fail depth = 9, Memory usage = 161.0 MB\n",
      " ! Current bound is 0.00003994779 (gap is 86.23%)\n",
      " !          Best Branches  Non-fixed    W       Branch decision\n",
      " *  0.0002891101      819  3.25s        7      (gap is 86.18%)\n",
      " *  0.0002851297      840  3.25s        7      (gap is 85.99%)\n",
      " *  0.0002782558      864  3.25s        7      (gap is 85.64%)\n",
      "    0.0002782558     1000          2    7      8166 != _INT_6\n",
      "    0.0002782558     1000          1    8            -\n",
      " *  0.0002719762     1209  5.00s        1      (gap is 85.31%)\n",
      " *  0.0002698275     1267  5.00s        1      (gap is 85.20%)\n",
      " *  0.0002632226     1275  5.00s        1      (gap is 84.82%)\n",
      " *  0.0002409638     1293  5.01s        1      (gap is 83.42%)\n",
      " *  0.0001235914     1101  5.01s        3      (gap is 67.68%)\n",
      " *  0.0001228171     1226  5.01s        3      (gap is 67.47%)\n",
      " *  0.0001094829     1321  5.01s        3      (gap is 63.51%)\n",
      " * 0.00009859450     1550  5.01s        3      (gap is 59.48%)\n",
      "   0.00009859450     2000          2    3      8201 != _INT_6\n",
      "   0.00009859450     1000          1    4   F  3022  = _INT_4\n",
      " * 0.00009439899     1990  5.01s        5      (gap is 57.68%)\n",
      "   0.00009439899     2000          3    5            -\n",
      "   0.00009439899     2000          2    6   F     5 != Destination\n",
      "   0.00009439899     2000          2    8       341 != _INT_2\n",
      " * 0.00005816066     2091  6.28s        3      (gap is 31.31%)\n",
      " ! Time = 6.28s, Average fail depth = 12, Memory usage = 180.8 MB\n",
      " ! Current bound is 0.00003994779 (gap is 31.31%)\n",
      " !          Best Branches  Non-fixed    W       Branch decision\n",
      " * 0.00005736309     2132  6.28s        3      (gap is 30.36%)\n",
      " * 0.00005684341     2171  6.28s        3      (gap is 29.72%)\n",
      "   0.00005684341     3000          2    3            -\n",
      "   0.00005684341     1137          2    4            -\n",
      " + New bound is 0.00005683772 (gap is 0.01%)\n",
      " ! ----------------------------------------------------------------------------\n",
      " ! Search completed, 68 solutions found.\n",
      " ! Best objective         : 0.00005684341 (optimal - effective tol. is 5.684341e-09)\n",
      " ! Best bound             : 0.00005683772\n",
      " ! ----------------------------------------------------------------------------\n",
      " ! Number of branches     : 18162\n",
      " ! Number of fails        : 8419\n",
      " ! Total memory usage     : 179.9 MB (179.8 MB CP Optimizer + 0.0 MB Concert)\n",
      " ! Time spent in solve    : 6.29s (5.58s engine + 0.72s extraction)\n",
      " ! Search speed (br. / s) : 3254.8\n",
      " ! ----------------------------------------------------------------------------\n"
     ]
    }
   ],
   "source": [
    "# Search Phase\n",
    "Vars = [Destination] + [flight for student in StudentsFlights for flight in student]\n",
    "Varchooser = model.select_largest(model.var_success_rate())\n",
    "Valuechooser = model.select_random_value()\n",
    "model.set_search_phases(model.search_phase(Vars, Varchooser, Valuechooser))\n",
    "\n",
    "print(\"Solving model....\")\n",
    "\n",
    "solution = model.solve(TimeLimit = SOLVER_TIME_LIMIT)"
   ]
  },
  {
   "cell_type": "markdown",
   "metadata": {},
   "source": [
    "#### Solution"
   ]
  },
  {
   "cell_type": "code",
   "execution_count": 101,
   "metadata": {},
   "outputs": [
    {
     "name": "stdout",
     "output_type": "stream",
     "text": [
      "Solution status: Optimal\n",
      "--> Destination: milano\n",
      "--> Total Cost: 64€\n",
      "--> Useful Time: 1125900 ( 13 days, 0:45:00 )\n",
      "--> Separated Time: 116400 ( 1 day, 8:20:00 )\n",
      "--> Students:\n",
      "    --> Student 1 departing from budapest:\n",
      "        OUTGOING FLIGHT:\n",
      "          01/06/2022, 08:15:00 -> 01/06/2022, 09:50:00 ( 1:35:00 )\n",
      "          Flight costs 13€ with 0 stops.\n",
      "        INCOMING FLIGHT:\n",
      "          14/06/2022, 21:00:00 -> 14/06/2022, 22:30:00 ( 1:30:00 )\n",
      "          Flight costs 5€ with 0 stops.\n",
      "    --> Student 2 departing from zagreb:\n",
      "        OUTGOING FLIGHT:\n",
      "          01/06/2022, 19:00:00 -> 01/06/2022, 20:15:00 ( 1:15:00 )\n",
      "          Flight costs 10€ with 0 stops.\n",
      "        INCOMING FLIGHT:\n",
      "          15/06/2022, 17:20:00 -> 15/06/2022, 18:35:00 ( 1:15:00 )\n",
      "          Flight costs 10€ with 0 stops.\n",
      "    --> Student 3 departing from wien:\n",
      "        OUTGOING FLIGHT:\n",
      "          01/06/2022, 06:50:00 -> 01/06/2022, 08:15:00 ( 1:25:00 )\n",
      "          Flight costs 16€ with 0 stops.\n",
      "        INCOMING FLIGHT:\n",
      "          15/06/2022, 09:05:00 -> 15/06/2022, 10:30:00 ( 1:25:00 )\n",
      "          Flight costs 10€ with 0 stops.\n"
     ]
    }
   ],
   "source": [
    "def print_flight(flight):\n",
    "    print(\"         \", flight[\"departure\"], \"->\", flight[\"arrival\"], \"(\", timedelta(minutes = flight[\"duration\"]), \")\")\n",
    "    print(\"          Flight costs \" + flight[\"price\"] + \"€ with \" + str(flight[\"stops\"]) + \" stops.\")\n",
    "\n",
    "if solution:\n",
    "    # solution.print_solution()\n",
    "    print(\"Solution status: \" + solution.get_solve_status())\n",
    "    print(\"--> Destination: \" + DESTINATIONS[solution[Destination]])\n",
    "    print(\"--> Total Cost: \" + str(solution[TotalCost]) + \"€\")\n",
    "    print(\"--> Useful Time:\", solution[UsefulTime], \"(\", timedelta(seconds = solution[UsefulTime]), \")\")\n",
    "    print(\"--> Separated Time:\", solution[SeparatedTime], \"(\", timedelta(seconds = solution[SeparatedTime]), \")\")\n",
    "    print(\"--> Students:\")\n",
    "\n",
    "    for i in range(N_STUDENTS):\n",
    "        Outgoing, Incoming = StudentsFlights[i]\n",
    "\n",
    "        print(\"    --> Student \" + str(i + 1) + \" departing from \" + STUDENTS_INFO[i][\"city\"] + \":\")\n",
    "\n",
    "        if STUDENTS_ORIGINS[i] == solution[Destination]:\n",
    "            print(\"       - Student need not to take any flights!\")\n",
    "        else:\n",
    "            print(\"        OUTGOING FLIGHT:\")\n",
    "            print_flight(FLIGHTS[solution[Outgoing]])\n",
    "            print(\"        INCOMING FLIGHT:\")\n",
    "            print_flight(FLIGHTS[solution[Incoming]])\n",
    "\n",
    "else:\n",
    "    print(\"No solution found\")"
   ]
  }
 ],
 "metadata": {
  "interpreter": {
   "hash": "0c7a622481a4ee3c77e2194436dca1746ca024df51366a091b5d2574d23653a1"
  },
  "kernelspec": {
   "display_name": "Python 3.8.12 ('base')",
   "language": "python",
   "name": "python3"
  },
  "language_info": {
   "codemirror_mode": {
    "name": "ipython",
    "version": 3
   },
   "file_extension": ".py",
   "mimetype": "text/x-python",
   "name": "python",
   "nbconvert_exporter": "python",
   "pygments_lexer": "ipython3",
   "version": "3.8.12"
  },
  "orig_nbformat": 4
 },
 "nbformat": 4,
 "nbformat_minor": 2
}

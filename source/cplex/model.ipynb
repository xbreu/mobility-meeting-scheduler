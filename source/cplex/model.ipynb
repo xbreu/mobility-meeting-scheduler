{
 "cells": [
  {
   "cell_type": "markdown",
   "metadata": {},
   "source": [
    "# Mobility Meeting Scheduler"
   ]
  },
  {
   "cell_type": "markdown",
   "metadata": {},
   "source": [
    "### Constants"
   ]
  },
  {
   "cell_type": "code",
   "execution_count": 29,
   "metadata": {},
   "outputs": [],
   "source": [
    "SOLVER_TIME_LIMIT = 2000\n",
    "\n",
    "MAXIMUM_FLIGHT_COST = 2500\n",
    "MAXIMUM_USEFUL_TIME = 2628288"
   ]
  },
  {
   "cell_type": "markdown",
   "metadata": {},
   "source": [
    "### Import Data"
   ]
  },
  {
   "cell_type": "markdown",
   "metadata": {},
   "source": [
    "#### Students"
   ]
  },
  {
   "cell_type": "code",
   "execution_count": 30,
   "metadata": {},
   "outputs": [
    {
     "name": "stdout",
     "output_type": "stream",
     "text": [
      "Imported 3 students, 7 destinations and the minimum time.\n"
     ]
    }
   ],
   "source": [
    "import json\n",
    "from datetime import datetime, timedelta\n",
    "\n",
    "# Import students information\n",
    "file = open('../../data/students.json')\n",
    "\n",
    "input = json.load(file)\n",
    "\n",
    "DESTINATIONS = input['destinations']\n",
    "MINIMUM_USEFUL_TIME = input['minimumTime']\n",
    "STUDENTS_INFO = input['students']\n",
    "N_STUDENTS = len(STUDENTS_INFO)\n",
    "\n",
    "STUDENTS_ORIGINS = [DESTINATIONS.index(x) for x in [student[\"city\"] for student in STUDENTS_INFO]]\n",
    "STUDENTS_STOPS = [student[\"maxConnections\"] for student in STUDENTS_INFO]\n",
    "STUDENTS_DURATIONS = [student[\"maxDuration\"] for student in STUDENTS_INFO]\n",
    "STUDENTS_DEPARTURES = [int(round(datetime.strptime(student[\"earliestDeparture\"], '%H:%M:%S').timestamp())) for student in STUDENTS_INFO]\n",
    "STUDENTS_ARRIVALS = [int(round(datetime.strptime(student[\"latestArrival\"], '%H:%M:%S').timestamp())) for student in STUDENTS_INFO]\n",
    "\n",
    "STUDENS_AVAILABILITIES = []\n",
    "for student in STUDENTS_INFO:\n",
    "    studentIntervals = []\n",
    "    for start, end in student[\"availability\"]:\n",
    "        studentIntervals.append(int(round(datetime.strptime(start, '%d/%m/%Y').timestamp())))\n",
    "        studentIntervals.append(int(round(datetime.strptime(end, '%d/%m/%Y').timestamp())))\n",
    "    STUDENS_AVAILABILITIES.append(studentIntervals)\n",
    "\n",
    "N_MAX_INTERVALS = max([int(len(x) / 2) for x in STUDENS_AVAILABILITIES])\n",
    "\n",
    "print(\"Imported\", N_STUDENTS, \"students,\", len(DESTINATIONS), \"destinations and the minimum time.\")"
   ]
  },
  {
   "cell_type": "markdown",
   "metadata": {},
   "source": [
    "#### Flights"
   ]
  },
  {
   "cell_type": "code",
   "execution_count": 31,
   "metadata": {},
   "outputs": [
    {
     "name": "stdout",
     "output_type": "stream",
     "text": [
      "Imported 9311 flights!\n"
     ]
    }
   ],
   "source": [
    "# Import flights\n",
    "file = open('../../data/flights.json')\n",
    "\n",
    "FLIGHTS = json.load(file)\n",
    "\n",
    "FLIGHTS_ORIGINS = [DESTINATIONS.index(x) for x in [flight[\"origin\"] for flight in FLIGHTS]]\n",
    "FLIGHTS_DESTINATIONS = [DESTINATIONS.index(x) for x in [flight[\"destination\"] for flight in FLIGHTS]]\n",
    "\n",
    "FLIGHTS_DEPARTURES = [int(round(datetime.strptime(flight[\"departure\"], '%d/%m/%Y, %H:%M:%S').timestamp())) for flight in FLIGHTS]\n",
    "FLIGHTS_DEPARTURE_TIMES = [int(round(datetime.strptime(datetime.fromtimestamp(departure).time().isoformat(), '%H:%M:%S').timestamp())) for departure in FLIGHTS_DEPARTURES]\n",
    "\n",
    "FLIGHTS_ARRIVALS = [int(round(datetime.strptime(flight[\"arrival\"], '%d/%m/%Y, %H:%M:%S').timestamp())) for flight in FLIGHTS]\n",
    "FLIGHTS_ARRIVAL_TIMES = [int(round(datetime.strptime(datetime.fromtimestamp(arrival).time().isoformat(), '%H:%M:%S').timestamp())) for arrival in FLIGHTS_ARRIVALS]\n",
    "\n",
    "FLIGHTS_DURATIONS = [flight[\"duration\"] for flight in FLIGHTS]\n",
    "FLIGHTS_COSTS = [int(flight[\"price\"]) for flight in FLIGHTS]\n",
    "FLIGHTS_STOPS = [flight[\"stops\"] for flight in FLIGHTS]\n",
    "\n",
    "print(\"Imported\", len(FLIGHTS), \"flights!\")"
   ]
  },
  {
   "cell_type": "markdown",
   "metadata": {},
   "source": [
    "#### Model"
   ]
  },
  {
   "cell_type": "code",
   "execution_count": 32,
   "metadata": {},
   "outputs": [],
   "source": [
    "from docplex.cp.model import CpoModel\n",
    "from docplex.cp.expression import INT_MIN, INT_MAX\n",
    "\n",
    "model = CpoModel()"
   ]
  },
  {
   "cell_type": "markdown",
   "metadata": {},
   "source": [
    "#### Variables"
   ]
  },
  {
   "cell_type": "code",
   "execution_count": 33,
   "metadata": {},
   "outputs": [],
   "source": [
    "# Chosen Destination\n",
    "Destination = model.integer_var(0, len(DESTINATIONS) - 1, \"Destination\")\n",
    "\n",
    "# Indexes of the flights each student has to take\n",
    "StudentsFlights = [model.integer_var_list(2, 0, len(FLIGHTS) - 1) for i in range(N_STUDENTS)]\n",
    "\n",
    "# Student avaliability interval\n",
    "StudentsAvailabilityIntervals = model.integer_var_list(N_STUDENTS, 0, N_MAX_INTERVALS, \"Interval\")\n",
    "\n",
    "# Cost for each of the students\n",
    "StudentsCosts = model.integer_var_list(N_STUDENTS, 0, MAXIMUM_FLIGHT_COST, \"StudentCost\")\n",
    "\n",
    "# Total trip cost\n",
    "TotalCost = model.integer_var(0, MAXIMUM_FLIGHT_COST * N_STUDENTS, \"TotalCost\")\n",
    "\n",
    "# Useful time\n",
    "UsefulTime = model.integer_var(0, MAXIMUM_USEFUL_TIME, \"UsefulTime\")\n",
    "\n",
    "# Separated Time\n",
    "SeparatedTime = model.integer_var(0, MAXIMUM_USEFUL_TIME, \"SeparatedTime\")"
   ]
  },
  {
   "cell_type": "markdown",
   "metadata": {},
   "source": [
    "#### Constraints"
   ]
  },
  {
   "cell_type": "code",
   "execution_count": 34,
   "metadata": {},
   "outputs": [],
   "source": [
    "for i in range(N_STUDENTS):\n",
    "    Outgoing, Incoming = StudentsFlights[i]\n",
    "    StudentOrigin = model.element(STUDENTS_ORIGINS, i)\n",
    "\n",
    "    # Origin of the flights\n",
    "    model.add(model.if_then(StudentOrigin != Destination, model.element(FLIGHTS_ORIGINS, Outgoing) == StudentOrigin))\n",
    "    model.add(model.if_then(StudentOrigin != Destination, model.element(FLIGHTS_ORIGINS, Incoming) == Destination))\n",
    "\n",
    "    # Destination of the flights\n",
    "    model.add(model.if_then(StudentOrigin != Destination, model.element(FLIGHTS_DESTINATIONS, Outgoing) == Destination))\n",
    "    model.add(model.if_then(StudentOrigin != Destination, model.element(FLIGHTS_DESTINATIONS, Incoming) == StudentOrigin))\n",
    "\n",
    "    # Availability\n",
    "    startAvailability = model.element(STUDENS_AVAILABILITIES[i], StudentsAvailabilityIntervals[i] * 2)\n",
    "    endAvailability = model.element(STUDENS_AVAILABILITIES[i], StudentsAvailabilityIntervals[i] * 2 + 1)\n",
    "    model.add(model.if_then(StudentOrigin != Destination, model.element(FLIGHTS_DEPARTURES, Outgoing) >= startAvailability))\n",
    "    model.add(model.if_then(StudentOrigin != Destination, model.element(FLIGHTS_ARRIVALS, Incoming) <= endAvailability))\n",
    "\n",
    "    # Outgoing arrival time must be before Incoming departure time\n",
    "    model.add(model.if_then(StudentOrigin != Destination, model.element(FLIGHTS_ARRIVALS, Outgoing) < model.element(FLIGHTS_DEPARTURES, Incoming)))\n",
    "\n",
    "    # Earliest departure\n",
    "    model.add(model.if_then(StudentOrigin != Destination, model.element(FLIGHTS_DEPARTURE_TIMES, Outgoing) >= model.element(STUDENTS_DEPARTURES, i)))\n",
    "    model.add(model.if_then(StudentOrigin != Destination, model.element(FLIGHTS_DEPARTURE_TIMES, Incoming) >= model.element(STUDENTS_DEPARTURES, i)))\n",
    "\n",
    "    # Latest arrival\n",
    "    model.add(model.if_then(StudentOrigin != Destination, model.element(FLIGHTS_ARRIVAL_TIMES, Outgoing) <= model.element(STUDENTS_ARRIVALS, i)))\n",
    "    model.add(model.if_then(StudentOrigin != Destination, model.element(FLIGHTS_ARRIVAL_TIMES, Incoming) <= model.element(STUDENTS_ARRIVALS, i)))\n",
    "\n",
    "    # Maximum number of stops\n",
    "    model.add(model.if_then(StudentOrigin != Destination, model.element(FLIGHTS_STOPS, Outgoing) <= model.element(STUDENTS_STOPS, i)))\n",
    "    model.add(model.if_then(StudentOrigin != Destination, model.element(FLIGHTS_STOPS, Incoming) <= model.element(STUDENTS_STOPS, i)))\n",
    "\n",
    "    # Maximum flight duration\n",
    "    model.add(model.if_then(StudentOrigin != Destination, model.element(FLIGHTS_DURATIONS, Outgoing) <= model.element(STUDENTS_DURATIONS, i)))\n",
    "    model.add(model.if_then(StudentOrigin != Destination, model.element(FLIGHTS_DURATIONS, Incoming) <= model.element(STUDENTS_DURATIONS, i)))\n",
    "\n",
    "    # Student Cost\n",
    "    studentCost = model.element(FLIGHTS_COSTS, StudentsFlights[i][0]) + model.element(FLIGHTS_COSTS, StudentsFlights[i][1])\n",
    "    model.add(model.conditional(StudentOrigin == Destination, 0, studentCost) == StudentsCosts[i])\n",
    "\n",
    "\n",
    "firstOutgoingTime = model.min([model.conditional(model.element(STUDENTS_ORIGINS, i) != Destination, model.element(FLIGHTS_ARRIVALS, StudentsFlights[i][0]), INT_MAX) for i in range(N_STUDENTS)])\n",
    "lastOutgoingTime = model.max([model.conditional(model.element(STUDENTS_ORIGINS, i) != Destination, model.element(FLIGHTS_ARRIVALS, StudentsFlights[i][0]), INT_MIN) for i in range(N_STUDENTS)])\n",
    "firstIncomingTime = model.min([model.conditional(model.element(STUDENTS_ORIGINS, i) != Destination, model.element(FLIGHTS_DEPARTURES, StudentsFlights[i][1]), INT_MAX) for i in range(N_STUDENTS)])\n",
    "lastIncomingTime = model.max([model.conditional(model.element(STUDENTS_ORIGINS, i) != Destination, model.element(FLIGHTS_DEPARTURES, StudentsFlights[i][1]), INT_MIN) for i in range(N_STUDENTS)])\n",
    "\n",
    "# Useful Time\n",
    "model.add(UsefulTime == firstIncomingTime - lastOutgoingTime)\n",
    "model.add(UsefulTime >= MINIMUM_USEFUL_TIME)\n",
    "\n",
    "# Separated Time\n",
    "model.add(SeparatedTime == (lastOutgoingTime - firstOutgoingTime) + (lastIncomingTime - firstIncomingTime))\n",
    "\n",
    "# Total cost\n",
    "model.add(TotalCost == model.sum(StudentsCosts))\n",
    "\n",
    "# Minimize function\n",
    "model.add(model.minimize(TotalCost / UsefulTime))"
   ]
  },
  {
   "cell_type": "markdown",
   "metadata": {},
   "source": [
    "#### Solve"
   ]
  },
  {
   "cell_type": "code",
   "execution_count": 35,
   "metadata": {},
   "outputs": [
    {
     "name": "stdout",
     "output_type": "stream",
     "text": [
      "Solving model....\n",
      " ! --------------------------------------------------- CP Optimizer 22.1.0.0 --\n",
      " ! Minimization problem - 16 variables, 52 constraints\n",
      " ! TimeLimit            = 2000\n",
      " ! Initial process time : 0.53s (0.53s extraction + 0.00s propagation)\n",
      " !  . Log search space  : 173.4 (before), 173.4 (after)\n",
      " !  . Memory usage      : 9.3 MB (before), 9.3 MB (after)\n",
      " ! Using parallel search with 8 workers.\n",
      " ! ----------------------------------------------------------------------------\n",
      " !          Best Branches  Non-fixed    W       Branch decision\n",
      "                        0         16                 -\n",
      " + New bound is 0\n",
      "                        0         16    1   F        -\n",
      " + New bound is 0.000002282425\n",
      " *     0.4620833       10  3.76s        1      (gap is 100.00%)\n",
      " *   0.008369829       31  3.76s        1      (gap is 99.97%)\n",
      " *   0.007006410      313  3.76s        3      (gap is 99.97%)\n",
      " *   0.006732154      970  3.76s        3      (gap is 99.97%)\n",
      "     0.006732154     1000          1    3   F     0  = _INT_1\n",
      "     0.006732154     1000          1    5   F  2116  = StudentCost_1\n",
      "     0.006732154     1000          1    6       160  = StudentCost_0\n",
      " *   0.005363064      471  3.76s        8      (gap is 99.96%)\n",
      " *   0.004993662      499  3.76s        8      (gap is 99.95%)\n",
      " *   0.001846522      568  3.76s        8      (gap is 99.88%)\n",
      " *   0.001458512      644  3.76s        8      (gap is 99.84%)\n",
      " *   0.001282979      691  3.76s        8      (gap is 99.82%)\n",
      " *   0.001256086      718  3.76s        8      (gap is 99.82%)\n",
      " *   0.001218474      771  3.76s        8      (gap is 99.81%)\n",
      " *   0.001207467      800  3.76s        8      (gap is 99.81%)\n",
      " *   0.001015258      840  3.76s        8      (gap is 99.78%)\n",
      "     0.001015258     1000          1    8       827 != TotalCost\n",
      "     0.001015258     1000          1    2   F   362  = _INT_2\n",
      " ! Time = 5.24s, Average fail depth = 15, Memory usage = 189.0 MB\n",
      " ! Current bound is 0.000002282425 (gap is 99.78%)\n",
      " !          Best Branches  Non-fixed    W       Branch decision\n",
      " *  0.0004978354     1327  5.24s        3      (gap is 99.54%)\n",
      " *  0.0004879173     1470  5.24s        3      (gap is 99.53%)\n",
      " *  0.0004476885     1631  5.24s        3      (gap is 99.49%)\n",
      " *  0.0004214334     1658  5.24s        3      (gap is 99.46%)\n",
      " *  0.0004103214     1808  5.24s        3      (gap is 99.44%)\n",
      " *  0.0004086021     1837  5.24s        3      (gap is 99.44%)\n",
      "    0.0004086021     2000          1    3       408 != TotalCost\n",
      "    0.0004086021     2000          1    6   F  5864  = _INT_2\n",
      "    0.0004086021     2000          1    5         0  = _INT_1\n",
      " *  0.0004038929     2016  8.36s        3      (gap is 99.43%)\n",
      " *  0.0003784044     2042  8.36s        3      (gap is 99.40%)\n",
      " *  0.0003749531     2067  8.36s        3      (gap is 99.39%)\n",
      " *  0.0002847282     2177  8.36s        3      (gap is 99.20%)\n",
      " *  0.0002538589     2713  8.36s        3      (gap is 99.10%)\n",
      "    0.0002538589     1000          1    7       249  = StudentCost_1\n",
      "    0.0002538589     2000          1    8         0  = Interval_1\n",
      "    0.0002538589     3000          1    5         0  = SeparatedTime\n",
      "    0.0002538589     1000          1    1   F   524  = _INT_2\n",
      " *  0.0002439024     2784  10.77s       3      (gap is 99.06%)\n",
      " *  0.0002330097     2978  10.77s       3      (gap is 99.02%)\n",
      " ! Time = 10.77s, Average fail depth = 14, Memory usage = 191.2 MB\n",
      " ! Current bound is 0.000002282425 (gap is 99.02%)\n",
      " !          Best Branches  Non-fixed    W       Branch decision\n",
      "    0.0002330097     3000          1    3            -\n",
      " *  0.0002160493     3635  10.77s       3      (gap is 98.94%)\n",
      "    0.0002160493     1000          1    4        18  = _INT_4\n",
      "    0.0002160493     3000          1    6            -\n",
      "    0.0002160493     3000          1    8   F  1776  = _INT_4\n",
      " *  0.0002092862     3830  10.77s       8      (gap is 98.91%)\n",
      "    0.0002092862     4000          7    5   F 2628265  = UsefulTime\n",
      "    0.0002092862     4000          5    6            -\n",
      "    0.0002092862     4000          4    8   F        -\n",
      " *  0.0001993127     3842  14.44s       3      (gap is 98.85%)\n",
      "    0.0001993127     4000          4    3            -\n",
      " *  0.0001795054     4251  14.44s       3      (gap is 98.73%)\n",
      " *  0.0001771591     1067  14.44s       4      (gap is 98.71%)\n",
      " *  0.0001665518     1481  14.44s       7      (gap is 98.63%)\n",
      " *  0.0001181388     4680  14.44s       8      (gap is 98.07%)\n",
      " *  0.0001153776     4767  18.33s       3      (gap is 98.02%)\n",
      " *  0.0001133545     4905  18.33s       3      (gap is 97.99%)\n",
      " * 0.00007334720     4971  18.33s       3      (gap is 96.89%)\n",
      "   0.00007334720     5000          2    3   F        -\n",
      " * 0.00006580086     5125  18.33s       3      (gap is 96.53%)\n",
      " ! Time = 18.33s, Average fail depth = 15, Memory usage = 193.0 MB\n",
      " ! Current bound is 0.000002282425 (gap is 96.53%)\n",
      " !          Best Branches  Non-fixed    W       Branch decision\n",
      " * 0.00006160553     5194  18.33s       3      (gap is 96.30%)\n",
      " * 0.00006137322     5308  18.33s       3      (gap is 96.28%)\n",
      " * 0.00005816066     5512  18.33s       3      (gap is 96.08%)\n",
      "   0.00005816066     5000          3    5        17 != SeparatedTime\n",
      "   0.00005816066     5000          1    6        62 != StudentCost_1\n",
      "   0.00005816066     5000          2    8   F    24  = StudentCost_2\n",
      "   0.00005816066     2000          1    2   F 2628143  = SeparatedTime\n",
      "   0.00005816066     6000          1    3     2628265 != SeparatedTime\n",
      "   0.00005816066     6000          1    6   F 1585130  = SeparatedTime\n",
      "   0.00005816066     6000          3    8   F     0 != Destination\n",
      " * 0.00005736309     6080  22.70s       3      (gap is 96.02%)\n",
      "   0.00005736309     2000          1    4   F 2628152  = UsefulTime\n",
      " * 0.00005684341     5381  22.70s       5      (gap is 95.98%)\n",
      "   0.00005684341     6000          1    5   F    33  = StudentCost_1\n",
      "   0.00005684341     2000          1    7   F 2356518  = SeparatedTime\n",
      "   0.00005684341     7000         12    8            -\n",
      "   0.00005684341     7000          2    3   F     0 != Destination\n",
      "   0.00005684341     7000          2    6   F     0 != Destination\n",
      "   0.00005684341     2000          2    1      2467 != _INT_4\n",
      "   0.00005684341     8000         11    3            -\n",
      " ! Time = 31.33s, Average fail depth = 15, Memory usage = 195.1 MB\n",
      " ! Current bound is 0.000002282425 (gap is 95.98%)\n",
      " !          Best Branches  Non-fixed    W       Branch decision\n",
      "   0.00005684341     7000         12    5            -\n",
      "   0.00005684341     8000         10    6      1837 != _INT_1\n",
      "   0.00005684341     3000          5    4   F 2628062  = SeparatedTime\n",
      "   0.00005684341     8000         10    8   F        -\n",
      "   0.00005684341     9000          9    3            -\n",
      "   0.00005684341     8000         11    5     158347 != UsefulTime\n",
      "   0.00005684341     9000          9    6         5 != StudentCost_1\n",
      "   0.00005684341     3000          1    7        19 != StudentCost_0\n",
      "   0.00005684341     9000         10    8   F     0 != Destination\n",
      "   0.00005684341    10000         12    3   F        -\n",
      "   0.00005684341     9000          9    5        46 != StudentCost_0\n",
      "   0.00005684341    10000         10    6         7  = SeparatedTime\n",
      "   0.00005684341     2790          2    1            -\n",
      " + New bound is 0.00005683772 (gap is 0.01%)\n",
      " ! ----------------------------------------------------------------------------\n",
      " ! Search completed, 42 solutions found.\n",
      " ! Best objective         : 0.00005684341 (optimal - effective tol. is 5.684341e-09)\n",
      " ! Best bound             : 0.00005683772\n",
      " ! ----------------------------------------------------------------------------\n",
      " ! Number of branches     : 52063\n",
      " ! Number of fails        : 26019\n",
      " ! Total memory usage     : 196.0 MB (195.9 MB CP Optimizer + 0.0 MB Concert)\n",
      " ! Time spent in solve    : 41.56s (41.03s engine + 0.53s extraction)\n",
      " ! Search speed (br. / s) : 1269.2\n",
      " ! ----------------------------------------------------------------------------\n"
     ]
    }
   ],
   "source": [
    "print(\"Solving model....\")\n",
    "\n",
    "solution = model.solve(TimeLimit = SOLVER_TIME_LIMIT)"
   ]
  },
  {
   "cell_type": "markdown",
   "metadata": {},
   "source": [
    "#### Solution"
   ]
  },
  {
   "cell_type": "code",
   "execution_count": 38,
   "metadata": {},
   "outputs": [
    {
     "name": "stdout",
     "output_type": "stream",
     "text": [
      "Solution status: Optimal\n",
      "--> Destination: milano\n",
      "--> Total Cost: 64€\n",
      "--> Useful Time: 1125900 ( 13 days, 0:45:00 )\n",
      "--> Separated Time: 116400 ( 1 day, 8:20:00 )\n",
      "--> Students:\n",
      "    --> Student 1 departing from budapest:\n",
      "        OUTGOING FLIGHT:\n",
      "          01/06/2022, 08:15:00 -> 01/06/2022, 09:50:00 ( 1:35:00 )\n",
      "          Flight costs 13€ with 0 stops.\n",
      "        INCOMING FLIGHT:\n",
      "          14/06/2022, 21:00:00 -> 14/06/2022, 22:30:00 ( 1:30:00 )\n",
      "          Flight costs 5€ with 0 stops.\n",
      "    --> Student 2 departing from zagreb:\n",
      "        OUTGOING FLIGHT:\n",
      "          01/06/2022, 19:00:00 -> 01/06/2022, 20:15:00 ( 1:15:00 )\n",
      "          Flight costs 10€ with 0 stops.\n",
      "        INCOMING FLIGHT:\n",
      "          15/06/2022, 17:20:00 -> 15/06/2022, 18:35:00 ( 1:15:00 )\n",
      "          Flight costs 10€ with 0 stops.\n",
      "    --> Student 3 departing from wien:\n",
      "        OUTGOING FLIGHT:\n",
      "          01/06/2022, 06:50:00 -> 01/06/2022, 08:15:00 ( 1:25:00 )\n",
      "          Flight costs 16€ with 0 stops.\n",
      "        INCOMING FLIGHT:\n",
      "          15/06/2022, 09:05:00 -> 15/06/2022, 10:30:00 ( 1:25:00 )\n",
      "          Flight costs 10€ with 0 stops.\n"
     ]
    }
   ],
   "source": [
    "def print_flight(flight):\n",
    "    print(\"         \", flight[\"departure\"], \"->\", flight[\"arrival\"], \"(\", timedelta(minutes = flight[\"duration\"]), \")\")\n",
    "    print(\"          Flight costs \" + flight[\"price\"] + \"€ with \" + str(flight[\"stops\"]) + \" stops.\")\n",
    "\n",
    "if solution:\n",
    "    # solution.print_solution()\n",
    "    print(\"Solution status: \" + solution.get_solve_status())\n",
    "    print(\"--> Destination: \" + DESTINATIONS[solution[Destination]])\n",
    "    print(\"--> Total Cost: \" + str(solution[TotalCost]) + \"€\")\n",
    "    print(\"--> Useful Time:\", solution[UsefulTime], \"(\", timedelta(seconds = solution[UsefulTime]), \")\")\n",
    "    print(\"--> Separated Time:\", solution[SeparatedTime], \"(\", timedelta(seconds = solution[SeparatedTime]), \")\")\n",
    "    print(\"--> Students:\")\n",
    "\n",
    "    for i in range(N_STUDENTS):\n",
    "        Outgoing, Incoming = StudentsFlights[i]\n",
    "\n",
    "        print(\"    --> Student \" + str(i + 1) + \" departing from \" + STUDENTS_INFO[i][\"city\"] + \":\")\n",
    "\n",
    "        if STUDENTS_ORIGINS[i] == solution[Destination]:\n",
    "            print(\"       - Student need not to take any flights!\")\n",
    "        else:\n",
    "            print(\"        OUTGOING FLIGHT:\")\n",
    "            print_flight(FLIGHTS[solution[Outgoing]])\n",
    "            print(\"        INCOMING FLIGHT:\")\n",
    "            print_flight(FLIGHTS[solution[Incoming]])\n",
    "\n",
    "else:\n",
    "    print(\"No solution found\")"
   ]
  }
 ],
 "metadata": {
  "interpreter": {
   "hash": "0c7a622481a4ee3c77e2194436dca1746ca024df51366a091b5d2574d23653a1"
  },
  "kernelspec": {
   "display_name": "Python 3.8.12 ('base')",
   "language": "python",
   "name": "python3"
  },
  "language_info": {
   "codemirror_mode": {
    "name": "ipython",
    "version": 3
   },
   "file_extension": ".py",
   "mimetype": "text/x-python",
   "name": "python",
   "nbconvert_exporter": "python",
   "pygments_lexer": "ipython3",
   "version": "3.8.12"
  },
  "orig_nbformat": 4
 },
 "nbformat": 4,
 "nbformat_minor": 2
}

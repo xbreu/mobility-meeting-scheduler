{
 "cells": [
  {
   "cell_type": "markdown",
   "metadata": {},
   "source": [
    "# Mobility Meeting Scheduler"
   ]
  },
  {
   "cell_type": "markdown",
   "metadata": {},
   "source": [
    "#### Constants"
   ]
  },
  {
   "cell_type": "code",
   "execution_count": 177,
   "metadata": {},
   "outputs": [],
   "source": [
    "SOLVER_TIME_LIMIT = 2000"
   ]
  },
  {
   "cell_type": "markdown",
   "metadata": {},
   "source": [
    "#### Import Data"
   ]
  },
  {
   "cell_type": "code",
   "execution_count": 178,
   "metadata": {},
   "outputs": [
    {
     "name": "stdout",
     "output_type": "stream",
     "text": [
      "Imported 3 students, 3 destinations and the minimum time.\n",
      "Imported 113 flights!\n"
     ]
    }
   ],
   "source": [
    "import json\n",
    "\n",
    "# Import students information\n",
    "file = open('../../data/students.json')\n",
    "\n",
    "input = json.load(file)\n",
    "\n",
    "DESTINATIONS = input['destinations']\n",
    "STUDENTS_INFO = input['students']\n",
    "N_STUDENTS = len(STUDENTS_INFO)\n",
    "\n",
    "STUDENTS_ORIGINS = [DESTINATIONS.index(x) for x in [student[\"city\"] for student in STUDENTS_INFO]]\n",
    "\n",
    "MINIMUM_USEFUL_TIME = input['minimumTime']\n",
    "\n",
    "print(\"Imported\", N_STUDENTS, \"students,\", len(DESTINATIONS), \"destinations and the minimum time.\")\n",
    "\n",
    "\n",
    "# Import flights\n",
    "file = open('../../data/flights.json')\n",
    "\n",
    "FLIGHTS = json.load(file)\n",
    "\n",
    "FLIGHTS_ORIGINS = [DESTINATIONS.index(x) for x in [flight[\"origin\"] for flight in FLIGHTS]]\n",
    "FLIGHTS_DESTINATIONS = [DESTINATIONS.index(x) for x in [flight[\"destination\"] for flight in FLIGHTS]]\n",
    "FLIGHTS_COSTS = [int(flight[\"price\"]) for flight in FLIGHTS]\n",
    "\n",
    "print(\"Imported\", len(FLIGHTS), \"flights!\")"
   ]
  },
  {
   "cell_type": "markdown",
   "metadata": {},
   "source": [
    "#### Model"
   ]
  },
  {
   "cell_type": "code",
   "execution_count": 179,
   "metadata": {},
   "outputs": [],
   "source": [
    "from docplex.cp.model import CpoModel\n",
    "\n",
    "model = CpoModel()"
   ]
  },
  {
   "cell_type": "markdown",
   "metadata": {},
   "source": [
    "#### Variables"
   ]
  },
  {
   "cell_type": "code",
   "execution_count": 180,
   "metadata": {},
   "outputs": [],
   "source": [
    "Destination = model.integer_var(0, len(DESTINATIONS) - 1, \"Destination\")\n",
    "\n",
    "StudentsFlights = [model.integer_var_list(2, -1, len(FLIGHTS) - 1) for i in range(N_STUDENTS)]"
   ]
  },
  {
   "cell_type": "markdown",
   "metadata": {},
   "source": [
    "#### Contraints"
   ]
  },
  {
   "cell_type": "code",
   "execution_count": 181,
   "metadata": {},
   "outputs": [],
   "source": [
    "for i in range(N_STUDENTS):\n",
    "    Outgoing, Incoming = StudentsFlights[i]\n",
    "    StudentOrigin = model.element(STUDENTS_ORIGINS, i)\n",
    "\n",
    "    # Origin of the flights\n",
    "    model.add(model.if_then(StudentOrigin != Destination, model.element(FLIGHTS_ORIGINS, Outgoing) == StudentOrigin))\n",
    "    model.add(model.if_then(StudentOrigin != Destination, model.element(FLIGHTS_ORIGINS, Incoming) == Destination))\n",
    "\n",
    "    # Destination of the flights\n",
    "    model.add(model.if_then(StudentOrigin != Destination, model.element(FLIGHTS_DESTINATIONS, Outgoing) == Destination))\n",
    "    model.add(model.if_then(StudentOrigin != Destination, model.element(FLIGHTS_DESTINATIONS, Incoming) == StudentOrigin))\n",
    "\n",
    "\n",
    "# Minimize total cost\n",
    "TotalCost = model.sum([model.conditional(model.element(STUDENTS_ORIGINS, i) != Destination, model.element(FLIGHTS_COSTS, StudentsFlights[i][0]) + model.element(FLIGHTS_COSTS, StudentsFlights[i][1]), 0) for i in range(N_STUDENTS)])\n",
    "model.add(model.minimize(TotalCost))"
   ]
  },
  {
   "cell_type": "markdown",
   "metadata": {},
   "source": [
    "#### Solve"
   ]
  },
  {
   "cell_type": "code",
   "execution_count": 182,
   "metadata": {},
   "outputs": [
    {
     "name": "stdout",
     "output_type": "stream",
     "text": [
      "Solving model....\n",
      " ! --------------------------------------------------- CP Optimizer 22.1.0.0 --\n",
      " ! Minimization problem - 7 variables, 12 constraints\n",
      " ! TimeLimit            = 2000\n",
      " ! Initial process time : 0.01s (0.01s extraction + 0.00s propagation)\n",
      " !  . Log search space  : 42.5 (before), 42.5 (after)\n",
      " !  . Memory usage      : 332.0 kB (before), 332.0 kB (after)\n",
      " ! Using parallel search with 8 workers.\n",
      " ! ----------------------------------------------------------------------------\n",
      " !          Best Branches  Non-fixed    W       Branch decision\n",
      "                        0          7                 -\n",
      " + New bound is 0\n",
      "                        0          7    1   F        -\n",
      " + New bound is 170\n",
      "                        2          7    1   F     0 != Destination\n",
      " + New bound is 171\n",
      " *           383        9  0.05s        1      (gap is 55.35%)\n",
      " *           380       47  0.05s        1      (gap is 55.00%)\n",
      " *           378       72  0.05s        1      (gap is 54.76%)\n",
      "             378     1000          1    3   F        -\n",
      "             378     1000          1    5   F        -\n",
      "             378     1000          1    6   F    16  = _INT_4\n",
      "             378     1000          1    8            -\n",
      "             378     2000          1    3   F   105  = _INT_2\n",
      "             378     2000          4    5   F     0 != Destination\n",
      "             378     2000          2    6   F        -\n",
      "             378     2000          4    8            -\n",
      "             378      549          1    1            -\n",
      " + New bound is 378 (gap is 0.00%)\n",
      " ! ----------------------------------------------------------------------------\n",
      " ! Search completed, 3 solutions found.\n",
      " ! Best objective         : 378 (optimal - effective tol. is 0)\n",
      " ! Best bound             : 378\n",
      " ! ----------------------------------------------------------------------------\n",
      " ! Number of branches     : 10221\n",
      " ! Number of fails        : 5393\n",
      " ! Total memory usage     : 5.2 MB (5.2 MB CP Optimizer + 0.0 MB Concert)\n",
      " ! Time spent in solve    : 0.06s (0.06s engine + 0.01s extraction)\n",
      " ! Search speed (br. / s) : 204420.0\n",
      " ! ----------------------------------------------------------------------------\n"
     ]
    }
   ],
   "source": [
    "print(\"Solving model....\")\n",
    "\n",
    "solution = model.solve(TimeLimit = SOLVER_TIME_LIMIT)"
   ]
  },
  {
   "cell_type": "markdown",
   "metadata": {},
   "source": [
    "#### Solution"
   ]
  },
  {
   "cell_type": "code",
   "execution_count": 183,
   "metadata": {},
   "outputs": [
    {
     "name": "stdout",
     "output_type": "stream",
     "text": [
      "Solution status: Optimal\n",
      "--> Destination: budapest\n",
      "--> Total Cost: 378\n",
      "--> Students:\n",
      "    --> Student 1 departing from budapest:\n",
      "       - Student need not to take any flights!\n",
      "    --> Student 2 departing from zagreb:\n",
      "       - [('departure', '05/05/2022, 14:15:00 '), ('arrival', '05/05/2022, 19:40:00 '), ('duration', 325), ('price', '105'), ('stops', 1)]\n",
      "       - [('departure', '05/05/2022, 08:40:00 '), ('arrival', '05/05/2022, 16:55:00 '), ('duration', 495), ('price', '85'), ('stops', 1)]\n",
      "    --> Student 3 departing from wien:\n",
      "       - [('departure', '07/05/2022, 07:00:00 '), ('arrival', '07/05/2022, 14:55:00 '), ('duration', 475), ('price', '102'), ('stops', 1)]\n",
      "       - [('departure', '06/05/2022, 09:15:00 '), ('arrival', '06/05/2022, 14:45:00 '), ('duration', 330), ('price', '86'), ('stops', 1)]\n"
     ]
    }
   ],
   "source": [
    "if solution:\n",
    "    print(\"Solution status: \" + solution.get_solve_status())\n",
    "    print(\"--> Destination: \" + DESTINATIONS[solution[Destination]])\n",
    "    print(\"--> Total Cost: \" + str(solution.get_objective_values()[0]))\n",
    "    print(\"--> Students:\")\n",
    "\n",
    "    for i in range(N_STUDENTS):\n",
    "        Outgoing, Incoming = StudentsFlights[i]\n",
    "\n",
    "        print(\"    --> Student \" + str(i + 1) + \" departing from \" + STUDENTS_INFO[i][\"city\"] + \":\")\n",
    "\n",
    "        if STUDENTS_ORIGINS[i] == solution[Destination]:\n",
    "            print(\"       - Student need not to take any flights!\")\n",
    "        else:\n",
    "            print(\"       -\", list(FLIGHTS[solution[Outgoing]].items())[2:])\n",
    "            print(\"       -\", list(FLIGHTS[solution[Incoming]].items())[2:])\n",
    "\n",
    "else:\n",
    "    print(\"No solution found\")"
   ]
  }
 ],
 "metadata": {
  "interpreter": {
   "hash": "0c7a622481a4ee3c77e2194436dca1746ca024df51366a091b5d2574d23653a1"
  },
  "kernelspec": {
   "display_name": "Python 3.8.12 ('base')",
   "language": "python",
   "name": "python3"
  },
  "language_info": {
   "codemirror_mode": {
    "name": "ipython",
    "version": 3
   },
   "file_extension": ".py",
   "mimetype": "text/x-python",
   "name": "python",
   "nbconvert_exporter": "python",
   "pygments_lexer": "ipython3",
   "version": "3.8.12"
  },
  "orig_nbformat": 4
 },
 "nbformat": 4,
 "nbformat_minor": 2
}

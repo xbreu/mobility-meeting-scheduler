{
 "cells": [
  {
   "cell_type": "markdown",
   "metadata": {},
   "source": [
    "# Mobility Meeting Scheduler"
   ]
  },
  {
   "cell_type": "markdown",
   "metadata": {},
   "source": [
    "#### Constants"
   ]
  },
  {
   "cell_type": "code",
   "execution_count": 164,
   "metadata": {},
   "outputs": [],
   "source": [
    "SOLVER_TIME_LIMIT = 2000\n",
    "\n",
    "MAXIMUM_FLIGHT_COST = 2500\n",
    "MAXIMUM_USEFUL_TIME = 2628288"
   ]
  },
  {
   "cell_type": "markdown",
   "metadata": {},
   "source": [
    "#### Import Data"
   ]
  },
  {
   "cell_type": "code",
   "execution_count": 165,
   "metadata": {},
   "outputs": [
    {
     "name": "stdout",
     "output_type": "stream",
     "text": [
      "Imported 3 students, 3 destinations and the minimum time.\n",
      "Imported 113 flights!\n"
     ]
    }
   ],
   "source": [
    "import json\n",
    "from datetime import datetime\n",
    "\n",
    "# Import students information\n",
    "file = open('../../data/students.json')\n",
    "\n",
    "input = json.load(file)\n",
    "\n",
    "DESTINATIONS = input['destinations']\n",
    "MINIMUM_USEFUL_TIME = input['minimumTime']\n",
    "STUDENTS_INFO = input['students']\n",
    "N_STUDENTS = len(STUDENTS_INFO)\n",
    "\n",
    "STUDENTS_ORIGINS = [DESTINATIONS.index(x) for x in [student[\"city\"] for student in STUDENTS_INFO]]\n",
    "STUDENTS_STOPS = [student[\"maxConnections\"] for student in STUDENTS_INFO]\n",
    "STUDENTS_DURATIONS = [student[\"maxDuration\"] for student in STUDENTS_INFO]\n",
    "STUDENTS_DEPARTURES = [int(round(datetime.strptime(student[\"earliestDeparture\"], '%H:%M:%S').timestamp())) for student in STUDENTS_INFO]\n",
    "STUDENTS_ARRIVALS = [int(round(datetime.strptime(student[\"latestArrival\"], '%H:%M:%S').timestamp())) for student in STUDENTS_INFO]\n",
    "\n",
    "STUDENS_AVAILABILITIES = []\n",
    "for student in STUDENTS_INFO:\n",
    "    studentIntervals = []\n",
    "    for start, end in student[\"availability\"]:\n",
    "        studentIntervals.append(int(round(datetime.strptime(start, '%d/%m/%Y').timestamp())))\n",
    "        studentIntervals.append(int(round(datetime.strptime(end, '%d/%m/%Y').timestamp())))\n",
    "    STUDENS_AVAILABILITIES.append(studentIntervals)\n",
    "\n",
    "N_MAX_INTERVALS = max([int(len(x) / 2) for x in STUDENS_AVAILABILITIES])\n",
    "\n",
    "print(\"Imported\", N_STUDENTS, \"students,\", len(DESTINATIONS), \"destinations and the minimum time.\")\n",
    "\n",
    "\n",
    "# Import flights\n",
    "file = open('../../data/flights.json')\n",
    "\n",
    "FLIGHTS = json.load(file)\n",
    "\n",
    "FLIGHTS_ORIGINS = [DESTINATIONS.index(x) for x in [flight[\"origin\"] for flight in FLIGHTS]]\n",
    "FLIGHTS_DESTINATIONS = [DESTINATIONS.index(x) for x in [flight[\"destination\"] for flight in FLIGHTS]]\n",
    "\n",
    "FLIGHTS_DEPARTURES = [int(round(datetime.strptime(flight[\"departure\"], '%d/%m/%Y, %H:%M:%S ').timestamp())) for flight in FLIGHTS]\n",
    "FLIGHTS_DEPARTURE_TIMES = [int(round(datetime.strptime(datetime.fromtimestamp(departure).time().isoformat(), '%H:%M:%S').timestamp())) for departure in FLIGHTS_DEPARTURES]\n",
    "\n",
    "FLIGHTS_ARRIVALS = [int(round(datetime.strptime(flight[\"arrival\"], '%d/%m/%Y, %H:%M:%S ').timestamp())) for flight in FLIGHTS]\n",
    "FLIGHTS_ARRIVAL_TIMES = [int(round(datetime.strptime(datetime.fromtimestamp(arrival).time().isoformat(), '%H:%M:%S').timestamp())) for arrival in FLIGHTS_ARRIVALS]\n",
    "\n",
    "FLIGHTS_DURATIONS = [flight[\"duration\"] for flight in FLIGHTS]\n",
    "FLIGHTS_COSTS = [int(flight[\"price\"]) for flight in FLIGHTS]\n",
    "FLIGHTS_STOPS = [flight[\"stops\"] for flight in FLIGHTS]\n",
    "\n",
    "print(\"Imported\", len(FLIGHTS), \"flights!\")"
   ]
  },
  {
   "cell_type": "markdown",
   "metadata": {},
   "source": [
    "#### Model"
   ]
  },
  {
   "cell_type": "code",
   "execution_count": 166,
   "metadata": {},
   "outputs": [],
   "source": [
    "from docplex.cp.model import CpoModel\n",
    "from docplex.cp.expression import INT_MIN, INT_MAX\n",
    "\n",
    "model = CpoModel()"
   ]
  },
  {
   "cell_type": "markdown",
   "metadata": {},
   "source": [
    "#### Variables"
   ]
  },
  {
   "cell_type": "code",
   "execution_count": 167,
   "metadata": {},
   "outputs": [],
   "source": [
    "# Chosen Destination\n",
    "Destination = model.integer_var(0, len(DESTINATIONS) - 1, \"Destination\")\n",
    "\n",
    "# Indexes of the flights each student has to take\n",
    "StudentsFlights = [model.integer_var_list(2, 0, len(FLIGHTS) - 1) for i in range(N_STUDENTS)]\n",
    "\n",
    "# Student avaliability interval\n",
    "StudentsAvailabilityIntervals = model.integer_var_list(N_STUDENTS, 0, N_MAX_INTERVALS, \"Interval\")\n",
    "\n",
    "# Cost for each of the students\n",
    "StudentsCosts = model.integer_var_list(N_STUDENTS, 0, MAXIMUM_FLIGHT_COST, \"StudentCost\")\n",
    "\n",
    "# Total trip cost\n",
    "TotalCost = model.integer_var(0, MAXIMUM_FLIGHT_COST * N_STUDENTS, \"TotalCost\")\n",
    "\n",
    "# Useful time\n",
    "UsefulTime = model.integer_var(0, MAXIMUM_USEFUL_TIME, \"UsefulTime\")"
   ]
  },
  {
   "cell_type": "markdown",
   "metadata": {},
   "source": [
    "#### Constraints"
   ]
  },
  {
   "cell_type": "code",
   "execution_count": 168,
   "metadata": {},
   "outputs": [],
   "source": [
    "for i in range(N_STUDENTS):\n",
    "    Outgoing, Incoming = StudentsFlights[i]\n",
    "    StudentOrigin = model.element(STUDENTS_ORIGINS, i)\n",
    "\n",
    "    # Origin of the flights\n",
    "    model.add(model.if_then(StudentOrigin != Destination, model.element(FLIGHTS_ORIGINS, Outgoing) == StudentOrigin))\n",
    "    model.add(model.if_then(StudentOrigin != Destination, model.element(FLIGHTS_ORIGINS, Incoming) == Destination))\n",
    "\n",
    "    # Destination of the flights\n",
    "    model.add(model.if_then(StudentOrigin != Destination, model.element(FLIGHTS_DESTINATIONS, Outgoing) == Destination))\n",
    "    model.add(model.if_then(StudentOrigin != Destination, model.element(FLIGHTS_DESTINATIONS, Incoming) == StudentOrigin))\n",
    "\n",
    "    # Availability\n",
    "    startAvailability = model.element(STUDENS_AVAILABILITIES[i], StudentsAvailabilityIntervals[i] * 2)\n",
    "    endAvailability = model.element(STUDENS_AVAILABILITIES[i], StudentsAvailabilityIntervals[i] * 2 + 1)\n",
    "    model.add(model.if_then(StudentOrigin != Destination, model.element(FLIGHTS_DEPARTURES, Outgoing) >= startAvailability))\n",
    "    model.add(model.if_then(StudentOrigin != Destination, model.element(FLIGHTS_ARRIVALS, Incoming) <= endAvailability))\n",
    "\n",
    "    # Outgoing arrival time must be before Incoming departure time\n",
    "    model.add(model.if_then(StudentOrigin != Destination, model.element(FLIGHTS_ARRIVALS, Outgoing) < model.element(FLIGHTS_DEPARTURES, Incoming)))\n",
    "\n",
    "    # Earliest departure\n",
    "    model.add(model.if_then(StudentOrigin != Destination, model.element(FLIGHTS_DEPARTURE_TIMES, Outgoing) >= model.element(STUDENTS_DEPARTURES, i)))\n",
    "    model.add(model.if_then(StudentOrigin != Destination, model.element(FLIGHTS_DEPARTURE_TIMES, Incoming) >= model.element(STUDENTS_DEPARTURES, i)))\n",
    "\n",
    "    # Latest arrival\n",
    "    model.add(model.if_then(StudentOrigin != Destination, model.element(FLIGHTS_ARRIVAL_TIMES, Outgoing) <= model.element(STUDENTS_ARRIVALS, i)))\n",
    "    model.add(model.if_then(StudentOrigin != Destination, model.element(FLIGHTS_ARRIVAL_TIMES, Incoming) <= model.element(STUDENTS_ARRIVALS, i)))\n",
    "\n",
    "    # Maximum number of stops\n",
    "    model.add(model.if_then(StudentOrigin != Destination, model.element(FLIGHTS_STOPS, Outgoing) <= model.element(STUDENTS_STOPS, i)))\n",
    "    model.add(model.if_then(StudentOrigin != Destination, model.element(FLIGHTS_STOPS, Incoming) <= model.element(STUDENTS_STOPS, i)))\n",
    "\n",
    "    # Maximum flight duration\n",
    "    model.add(model.if_then(StudentOrigin != Destination, model.element(FLIGHTS_DURATIONS, Outgoing) <= model.element(STUDENTS_DURATIONS, i)))\n",
    "    model.add(model.if_then(StudentOrigin != Destination, model.element(FLIGHTS_DURATIONS, Incoming) <= model.element(STUDENTS_DURATIONS, i)))\n",
    "\n",
    "    # Student Cost\n",
    "    model.add(model.conditional(StudentOrigin == Destination, 0, model.element(FLIGHTS_COSTS, StudentsFlights[i][0]) + model.element(FLIGHTS_COSTS, StudentsFlights[i][1])) == StudentsCosts[i])\n",
    "\n",
    "\n",
    "# Minimum Useful Time\n",
    "lastOutgoingTime = model.max([model.conditional(model.element(STUDENTS_ORIGINS, i) != Destination, model.element(FLIGHTS_ARRIVALS, StudentsFlights[i][0]), INT_MIN) for i in range(N_STUDENTS)])\n",
    "firstIncomingTime = model.min([model.conditional(model.element(STUDENTS_ORIGINS, i) != Destination, model.element(FLIGHTS_DEPARTURES, StudentsFlights[i][1]), INT_MAX) for i in range(N_STUDENTS)])\n",
    "\n",
    "model.add(UsefulTime == firstIncomingTime - lastOutgoingTime)\n",
    "\n",
    "model.add(UsefulTime >= MINIMUM_USEFUL_TIME)\n",
    "\n",
    "# Minimize total cost\n",
    "model.add(TotalCost == model.sum(StudentsCosts))\n",
    "model.add(model.minimize(TotalCost))"
   ]
  },
  {
   "cell_type": "markdown",
   "metadata": {},
   "source": [
    "#### Solve"
   ]
  },
  {
   "cell_type": "code",
   "execution_count": 169,
   "metadata": {},
   "outputs": [
    {
     "name": "stdout",
     "output_type": "stream",
     "text": [
      "Solving model....\n",
      " ! --------------------------------------------------- CP Optimizer 22.1.0.0 --\n",
      " ! Minimization problem - 15 variables, 51 constraints\n",
      " ! TimeLimit            = 2000\n",
      " ! Initial process time : 0.02s (0.02s extraction + 0.00s propagation)\n",
      " !  . Log search space  : 105.8 (before), 105.8 (after)\n",
      " !  . Memory usage      : 462.4 kB (before), 462.4 kB (after)\n",
      " ! Using parallel search with 8 workers.\n",
      " ! ----------------------------------------------------------------------------\n",
      " !          Best Branches  Non-fixed    W       Branch decision\n",
      "                        0         15                 -\n",
      " + New bound is 0\n",
      "                        0         15    1   F        -\n",
      " + New bound is 170\n",
      "                        8         11    1   F     0 != Interval_1\n",
      " + New bound is 171\n",
      " *           743       16  0.08s        1      (gap is 76.99%)\n",
      " *           615       23  0.08s        1      (gap is 72.20%)\n",
      " *           597       32  0.08s        1      (gap is 71.36%)\n",
      " *           585       46  0.08s        1      (gap is 70.77%)\n",
      " *           567       52  0.08s        1      (gap is 69.84%)\n",
      " *           498       51  0.08s        3      (gap is 65.66%)\n",
      " *           484       77  0.08s        3      (gap is 64.67%)\n",
      " *           455      102  0.08s        3      (gap is 62.42%)\n",
      " *           452      158  0.08s        3      (gap is 62.17%)\n",
      " *           447      186  0.08s        3      (gap is 61.74%)\n",
      " *           425      240  0.08s        3      (gap is 59.76%)\n",
      " *           424      316  0.08s        3      (gap is 59.67%)\n",
      " *           422      339  0.08s        3      (gap is 59.48%)\n",
      "             422     1000          1    3   F 284982  = UsefulTime\n",
      "             422     1000          1    5   F    73  = _INT_2\n",
      "             422     1000          1    6            -\n",
      "             422     1000          1    8            -\n",
      " ! Time = 0.08s, Average fail depth = 10, Memory usage = 6.9 MB\n",
      " ! Current bound is 171 (gap is 59.48%)\n",
      " !          Best Branches  Non-fixed    W       Branch decision\n",
      "             422     2000         10    3   F     0 != Destination\n",
      "             422     2000         10    5   F   419  = StudentCost_0\n",
      "             422     2000          8    8   F        -\n",
      "             422      486          1    4            -\n",
      " + New bound is 422 (gap is 0.00%)\n",
      " ! ----------------------------------------------------------------------------\n",
      " ! Search completed, 13 solutions found.\n",
      " ! Best objective         : 422 (optimal - effective tol. is 0)\n",
      " ! Best bound             : 422\n",
      " ! ----------------------------------------------------------------------------\n",
      " ! Number of branches     : 10230\n",
      " ! Number of fails        : 5280\n",
      " ! Total memory usage     : 6.9 MB (6.9 MB CP Optimizer + 0.0 MB Concert)\n",
      " ! Time spent in solve    : 0.11s (0.09s engine + 0.02s extraction)\n",
      " ! Search speed (br. / s) : 113666.7\n",
      " ! ----------------------------------------------------------------------------\n"
     ]
    }
   ],
   "source": [
    "print(\"Solving model....\")\n",
    "\n",
    "solution = model.solve(TimeLimit = SOLVER_TIME_LIMIT)"
   ]
  },
  {
   "cell_type": "markdown",
   "metadata": {},
   "source": [
    "#### Solution"
   ]
  },
  {
   "cell_type": "code",
   "execution_count": 170,
   "metadata": {},
   "outputs": [
    {
     "name": "stdout",
     "output_type": "stream",
     "text": [
      "Solution status: Optimal\n",
      "--> Destination: budapest\n",
      "--> Total Cost: 422\n",
      "--> Useful Time: 144300\n",
      "--> Students:\n",
      "    --> Student 1 departing from budapest:\n",
      "       - Student need not to take any flights!\n",
      "    --> Student 2 departing from zagreb:\n",
      "       - [('departure', '06/05/2022, 14:10:00 '), ('arrival', '06/05/2022, 20:50:00 '), ('duration', 400), ('price', '105'), ('stops', 1)]\n",
      "       - [('departure', '09/05/2022, 07:00:00 '), ('arrival', '09/05/2022, 11:00:00 '), ('duration', 240), ('price', '129'), ('stops', 1)]\n",
      "    --> Student 3 departing from wien:\n",
      "       - [('departure', '07/05/2022, 07:00:00 '), ('arrival', '07/05/2022, 14:55:00 '), ('duration', 475), ('price', '102'), ('stops', 1)]\n",
      "       - [('departure', '09/05/2022, 09:15:00 '), ('arrival', '09/05/2022, 14:45:00 '), ('duration', 330), ('price', '86'), ('stops', 1)]\n"
     ]
    }
   ],
   "source": [
    "if solution:\n",
    "    # solution.print_solution()\n",
    "    print(\"Solution status: \" + solution.get_solve_status())\n",
    "    print(\"--> Destination: \" + DESTINATIONS[solution[Destination]])\n",
    "    print(\"--> Total Cost: \" + str(solution[TotalCost]))\n",
    "    print(\"--> Useful Time: \" + str(solution[UsefulTime]))\n",
    "    print(\"--> Students:\")\n",
    "\n",
    "    for i in range(N_STUDENTS):\n",
    "        Outgoing, Incoming = StudentsFlights[i]\n",
    "\n",
    "        print(\"    --> Student \" + str(i + 1) + \" departing from \" + STUDENTS_INFO[i][\"city\"] + \":\")\n",
    "\n",
    "        if STUDENTS_ORIGINS[i] == solution[Destination]:\n",
    "            print(\"       - Student need not to take any flights!\")\n",
    "        else:\n",
    "            print(\"       -\", list(FLIGHTS[solution[Outgoing]].items())[2:])\n",
    "            print(\"       -\", list(FLIGHTS[solution[Incoming]].items())[2:])\n",
    "\n",
    "else:\n",
    "    print(\"No solution found\")"
   ]
  }
 ],
 "metadata": {
  "interpreter": {
   "hash": "0c7a622481a4ee3c77e2194436dca1746ca024df51366a091b5d2574d23653a1"
  },
  "kernelspec": {
   "display_name": "Python 3.8.12 ('base')",
   "language": "python",
   "name": "python3"
  },
  "language_info": {
   "codemirror_mode": {
    "name": "ipython",
    "version": 3
   },
   "file_extension": ".py",
   "mimetype": "text/x-python",
   "name": "python",
   "nbconvert_exporter": "python",
   "pygments_lexer": "ipython3",
   "version": "3.8.12"
  },
  "orig_nbformat": 4
 },
 "nbformat": 4,
 "nbformat_minor": 2
}
